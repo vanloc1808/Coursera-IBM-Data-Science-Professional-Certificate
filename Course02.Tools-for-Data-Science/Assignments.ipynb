{
 "cells": [
  {
   "cell_type": "markdown",
   "metadata": {},
   "source": [
    "This course introduced you to multiple data science tools, and in this final project you will use Jupyter Notebook, one of the easiest tools to share publicly.\n",
    "\n",
    "Leveraging Jupyter Notebook on IBM Watson Studio, you will create your own Jupyter Notebook (in English) and share it via a public link.\n",
    "\n",
    "Step-By-Step Assignment Instructions"
   ]
  }
 ],
 "metadata": {
  "language_info": {
   "name": "python"
  },
  "orig_nbformat": 4
 },
 "nbformat": 4,
 "nbformat_minor": 2
}
