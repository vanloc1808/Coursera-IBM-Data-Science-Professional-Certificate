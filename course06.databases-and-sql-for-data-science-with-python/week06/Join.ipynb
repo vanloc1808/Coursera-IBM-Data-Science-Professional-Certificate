{
 "cells": [
  {
   "cell_type": "code",
   "execution_count": null,
   "metadata": {},
   "outputs": [],
   "source": [
    "%load_ext sql"
   ]
  },
  {
   "cell_type": "code",
   "execution_count": null,
   "metadata": {},
   "outputs": [],
   "source": [
    "# Enter the connection string for your Db2 on Cloud database instance below\n",
    "# %sql ibm_db_sa://my-username:my-password@my-hostname:my-port/my-db-name?security=SSL\n",
    "%sql ibm_db_sa://qsk32012:afwCXo7aE3e3Uscx@6667d8e9-9d4d-4ccb-ba32-21da3bb5aafc.c1ogj3sd0tgtu0lqde00.databases.appdomain.cloud:30376/BLUDB?security=SSL"
   ]
  },
  {
   "cell_type": "code",
   "execution_count": null,
   "metadata": {},
   "outputs": [],
   "source": [
    "%%sql\n",
    "select E.F_NAME,E.L_NAME, JH.START_DATE \n",
    "from EMPLOYEES as E \n",
    "INNER JOIN JOB_HISTORY as JH on E.EMP_ID=JH.EMPL_ID \n",
    "where E.DEP_ID ='5';"
   ]
  },
  {
   "cell_type": "code",
   "execution_count": null,
   "metadata": {},
   "outputs": [],
   "source": [
    "%%sql\n",
    "select E.F_NAME,E.L_NAME, JH.START_DATE, J.JOB_TITLE \n",
    "from EMPLOYEES as E \n",
    "INNER JOIN JOB_HISTORY as JH on E.EMP_ID=JH.EMPL_ID \n",
    "INNER JOIN JOBS as J on E.JOB_ID=J.JOB_IDENT\n",
    "where E.DEP_ID ='5';"
   ]
  },
  {
   "cell_type": "code",
   "execution_count": null,
   "metadata": {},
   "outputs": [],
   "source": [
    "%%sql\n",
    "select E.EMP_ID,E.L_NAME,E.DEP_ID,D.DEP_NAME\n",
    "from EMPLOYEES AS E \n",
    "LEFT OUTER JOIN DEPARTMENTS AS D ON E.DEP_ID=D.DEPT_ID_DEP;"
   ]
  },
  {
   "cell_type": "code",
   "execution_count": null,
   "metadata": {},
   "outputs": [],
   "source": [
    "%%sql\n",
    "select E.EMP_ID,E.L_NAME,E.DEP_ID,D.DEP_NAME\n",
    "from EMPLOYEES AS E \n",
    "LEFT OUTER JOIN DEPARTMENTS AS D ON E.DEP_ID=D.DEPT_ID_DEP \n",
    "where YEAR(E.B_DATE) < 1980;"
   ]
  },
  {
   "cell_type": "code",
   "execution_count": null,
   "metadata": {},
   "outputs": [],
   "source": [
    "%%sql\n",
    "select E.EMP_ID,E.L_NAME,E.DEP_ID,D.DEP_NAME\n",
    "from EMPLOYEES AS E \n",
    "LEFT OUTER JOIN DEPARTMENTS AS D ON E.DEP_ID=D.DEPT_ID_DEP \n",
    "AND YEAR(E.B_DATE) < 1980;"
   ]
  },
  {
   "cell_type": "code",
   "execution_count": null,
   "metadata": {},
   "outputs": [],
   "source": [
    "%%sql\n",
    "select E.F_NAME,E.L_NAME,D.DEP_NAME\n",
    "from EMPLOYEES AS E \n",
    "FULL OUTER JOIN DEPARTMENTS AS D ON E.DEP_ID=D.DEPT_ID_DEP;"
   ]
  },
  {
   "cell_type": "code",
   "execution_count": null,
   "metadata": {},
   "outputs": [],
   "source": [
    "%%sql\n",
    "select E.F_NAME,E.L_NAME,D.DEPT_ID_DEP, D.DEP_NAME\n",
    "from EMPLOYEES AS E \n",
    "FULL OUTER JOIN DEPARTMENTS AS D ON E.DEP_ID=D.DEPT_ID_DEP AND E.SEX = 'M';"
   ]
  }
 ],
 "metadata": {
  "language_info": {
   "name": "python"
  },
  "orig_nbformat": 4
 },
 "nbformat": 4,
 "nbformat_minor": 2
}
