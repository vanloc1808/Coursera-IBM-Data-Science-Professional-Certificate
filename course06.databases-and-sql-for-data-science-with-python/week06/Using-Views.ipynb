{
 "cells": [
  {
   "cell_type": "code",
   "execution_count": 7,
   "metadata": {},
   "outputs": [
    {
     "name": "stdout",
     "output_type": "stream",
     "text": [
      "The sql extension is already loaded. To reload it, use:\n",
      "  %reload_ext sql\n"
     ]
    }
   ],
   "source": [
    "%load_ext sql"
   ]
  },
  {
   "cell_type": "code",
   "execution_count": 8,
   "metadata": {},
   "outputs": [],
   "source": [
    "# Enter the connection string for your Db2 on Cloud database instance below\n",
    "# %sql ibm_db_sa://my-username:my-password@my-hostname:my-port/my-db-name?security=SSL\n",
    "%sql ibm_db_sa://qsk32012:afwCXo7aE3e3Uscx@6667d8e9-9d4d-4ccb-ba32-21da3bb5aafc.c1ogj3sd0tgtu0lqde00.databases.appdomain.cloud:30376/BLUDB?security=SSL"
   ]
  },
  {
   "cell_type": "code",
   "execution_count": 9,
   "metadata": {},
   "outputs": [
    {
     "name": "stdout",
     "output_type": "stream",
     "text": [
      " * ibm_db_sa://qsk32012:***@6667d8e9-9d4d-4ccb-ba32-21da3bb5aafc.c1ogj3sd0tgtu0lqde00.databases.appdomain.cloud:30376/BLUDB\n",
      "(ibm_db_dbi.ProgrammingError) ibm_db_dbi::ProgrammingError: Statement Execute Failed: [IBM][CLI Driver][DB2/LINUXX8664] SQL0601N  The name of the object to be created is identical to the existing name \"QSK32012.EMPSALARY\" of type \"VIEW\".  SQLSTATE=42710\\r SQLCODE=-601\n",
      "[SQL: CREATE VIEW EMPSALARY AS \n",
      "SELECT EMP_ID, F_NAME, L_NAME, B_DATE, SEX, SALARY\n",
      "FROM EMPLOYEES;]\n",
      "(Background on this error at: http://sqlalche.me/e/13/f405)\n"
     ]
    }
   ],
   "source": [
    "%%sql\n",
    "CREATE VIEW EMPSALARY AS \n",
    "SELECT EMP_ID, F_NAME, L_NAME, B_DATE, SEX, SALARY\n",
    "FROM EMPLOYEES;"
   ]
  },
  {
   "cell_type": "code",
   "execution_count": 10,
   "metadata": {},
   "outputs": [
    {
     "name": "stdout",
     "output_type": "stream",
     "text": [
      " * ibm_db_sa://qsk32012:***@6667d8e9-9d4d-4ccb-ba32-21da3bb5aafc.c1ogj3sd0tgtu0lqde00.databases.appdomain.cloud:30376/BLUDB\n",
      "Done.\n"
     ]
    },
    {
     "data": {
      "text/html": [
       "<table>\n",
       "    <tr>\n",
       "        <th>emp_id</th>\n",
       "        <th>f_name</th>\n",
       "        <th>l_name</th>\n",
       "        <th>b_date</th>\n",
       "        <th>sex</th>\n",
       "        <th>job_title</th>\n",
       "        <th>min_salary</th>\n",
       "        <th>max_salary</th>\n",
       "    </tr>\n",
       "    <tr>\n",
       "        <td>E1002    </td>\n",
       "        <td>Alice</td>\n",
       "        <td>James</td>\n",
       "        <td>1972-07-31</td>\n",
       "        <td>F</td>\n",
       "        <td>Sr.Software Developer</td>\n",
       "        <td>60000.00</td>\n",
       "        <td>80000.00</td>\n",
       "    </tr>\n",
       "    <tr>\n",
       "        <td>E1003    </td>\n",
       "        <td>Steve</td>\n",
       "        <td>Wells</td>\n",
       "        <td>1980-08-10</td>\n",
       "        <td>M</td>\n",
       "        <td>Jr.Software Developer</td>\n",
       "        <td>40000.00</td>\n",
       "        <td>60000.00</td>\n",
       "    </tr>\n",
       "    <tr>\n",
       "        <td>E1004    </td>\n",
       "        <td>Santosh</td>\n",
       "        <td>Kumar</td>\n",
       "        <td>1985-07-20</td>\n",
       "        <td>M</td>\n",
       "        <td>Jr.Software Developer</td>\n",
       "        <td>40000.00</td>\n",
       "        <td>60000.00</td>\n",
       "    </tr>\n",
       "    <tr>\n",
       "        <td>E1005    </td>\n",
       "        <td>Ahmed</td>\n",
       "        <td>Hussain</td>\n",
       "        <td>1981-01-04</td>\n",
       "        <td>M</td>\n",
       "        <td>Jr. Architect</td>\n",
       "        <td>50000.00</td>\n",
       "        <td>70000.00</td>\n",
       "    </tr>\n",
       "    <tr>\n",
       "        <td>E1006    </td>\n",
       "        <td>Nancy</td>\n",
       "        <td>Allen</td>\n",
       "        <td>1978-02-06</td>\n",
       "        <td>F</td>\n",
       "        <td>Lead Architect</td>\n",
       "        <td>70000.00</td>\n",
       "        <td>100000.00</td>\n",
       "    </tr>\n",
       "    <tr>\n",
       "        <td>E1007    </td>\n",
       "        <td>Mary</td>\n",
       "        <td>Thomas</td>\n",
       "        <td>1975-05-05</td>\n",
       "        <td>F</td>\n",
       "        <td>Jr. Designer</td>\n",
       "        <td>60000.00</td>\n",
       "        <td>70000.00</td>\n",
       "    </tr>\n",
       "    <tr>\n",
       "        <td>E1008    </td>\n",
       "        <td>Bharath</td>\n",
       "        <td>Gupta</td>\n",
       "        <td>1985-05-06</td>\n",
       "        <td>M</td>\n",
       "        <td>Jr. Designer</td>\n",
       "        <td>60000.00</td>\n",
       "        <td>70000.00</td>\n",
       "    </tr>\n",
       "    <tr>\n",
       "        <td>E1009    </td>\n",
       "        <td>Andrea</td>\n",
       "        <td>Jones</td>\n",
       "        <td>1990-07-09</td>\n",
       "        <td>F</td>\n",
       "        <td>Sr. Designer</td>\n",
       "        <td>70000.00</td>\n",
       "        <td>90000.00</td>\n",
       "    </tr>\n",
       "    <tr>\n",
       "        <td>E1010    </td>\n",
       "        <td>Ann</td>\n",
       "        <td>Jacob</td>\n",
       "        <td>1982-03-30</td>\n",
       "        <td>F</td>\n",
       "        <td>Sr. Designer</td>\n",
       "        <td>70000.00</td>\n",
       "        <td>90000.00</td>\n",
       "    </tr>\n",
       "</table>"
      ],
      "text/plain": [
       "[('E1002    ', 'Alice', 'James', datetime.date(1972, 7, 31), 'F', 'Sr.Software Developer', Decimal('60000.00'), Decimal('80000.00')),\n",
       " ('E1003    ', 'Steve', 'Wells', datetime.date(1980, 8, 10), 'M', 'Jr.Software Developer', Decimal('40000.00'), Decimal('60000.00')),\n",
       " ('E1004    ', 'Santosh', 'Kumar', datetime.date(1985, 7, 20), 'M', 'Jr.Software Developer', Decimal('40000.00'), Decimal('60000.00')),\n",
       " ('E1005    ', 'Ahmed', 'Hussain', datetime.date(1981, 1, 4), 'M', 'Jr. Architect', Decimal('50000.00'), Decimal('70000.00')),\n",
       " ('E1006    ', 'Nancy', 'Allen', datetime.date(1978, 2, 6), 'F', 'Lead Architect', Decimal('70000.00'), Decimal('100000.00')),\n",
       " ('E1007    ', 'Mary', 'Thomas', datetime.date(1975, 5, 5), 'F', 'Jr. Designer', Decimal('60000.00'), Decimal('70000.00')),\n",
       " ('E1008    ', 'Bharath', 'Gupta', datetime.date(1985, 5, 6), 'M', 'Jr. Designer', Decimal('60000.00'), Decimal('70000.00')),\n",
       " ('E1009    ', 'Andrea', 'Jones', datetime.date(1990, 7, 9), 'F', 'Sr. Designer', Decimal('70000.00'), Decimal('90000.00')),\n",
       " ('E1010    ', 'Ann', 'Jacob', datetime.date(1982, 3, 30), 'F', 'Sr. Designer', Decimal('70000.00'), Decimal('90000.00'))]"
      ]
     },
     "execution_count": 10,
     "metadata": {},
     "output_type": "execute_result"
    }
   ],
   "source": [
    "%%sql\n",
    "SELECT * FROM EMPSALARY;"
   ]
  },
  {
   "cell_type": "code",
   "execution_count": 11,
   "metadata": {},
   "outputs": [
    {
     "name": "stdout",
     "output_type": "stream",
     "text": [
      " * ibm_db_sa://qsk32012:***@6667d8e9-9d4d-4ccb-ba32-21da3bb5aafc.c1ogj3sd0tgtu0lqde00.databases.appdomain.cloud:30376/BLUDB\n",
      "Done.\n"
     ]
    },
    {
     "data": {
      "text/plain": [
       "[]"
      ]
     },
     "execution_count": 11,
     "metadata": {},
     "output_type": "execute_result"
    }
   ],
   "source": [
    "%%sql\n",
    "CREATE OR REPLACE VIEW EMPSALARY  AS \n",
    "SELECT EMP_ID, F_NAME, L_NAME, B_DATE, SEX, JOB_TITLE, MIN_SALARY, MAX_SALARY\n",
    "FROM EMPLOYEES, JOBS\n",
    "WHERE EMPLOYEES.JOB_ID = JOBS.JOB_IDENT;"
   ]
  },
  {
   "cell_type": "code",
   "execution_count": 13,
   "metadata": {},
   "outputs": [
    {
     "name": "stdout",
     "output_type": "stream",
     "text": [
      " * ibm_db_sa://qsk32012:***@6667d8e9-9d4d-4ccb-ba32-21da3bb5aafc.c1ogj3sd0tgtu0lqde00.databases.appdomain.cloud:30376/BLUDB\n",
      "Done.\n"
     ]
    },
    {
     "data": {
      "text/html": [
       "<table>\n",
       "    <tr>\n",
       "        <th>emp_id</th>\n",
       "        <th>f_name</th>\n",
       "        <th>l_name</th>\n",
       "        <th>b_date</th>\n",
       "        <th>sex</th>\n",
       "        <th>job_title</th>\n",
       "        <th>min_salary</th>\n",
       "        <th>max_salary</th>\n",
       "    </tr>\n",
       "    <tr>\n",
       "        <td>E1002    </td>\n",
       "        <td>Alice</td>\n",
       "        <td>James</td>\n",
       "        <td>1972-07-31</td>\n",
       "        <td>F</td>\n",
       "        <td>Sr.Software Developer</td>\n",
       "        <td>60000.00</td>\n",
       "        <td>80000.00</td>\n",
       "    </tr>\n",
       "    <tr>\n",
       "        <td>E1003    </td>\n",
       "        <td>Steve</td>\n",
       "        <td>Wells</td>\n",
       "        <td>1980-08-10</td>\n",
       "        <td>M</td>\n",
       "        <td>Jr.Software Developer</td>\n",
       "        <td>40000.00</td>\n",
       "        <td>60000.00</td>\n",
       "    </tr>\n",
       "    <tr>\n",
       "        <td>E1004    </td>\n",
       "        <td>Santosh</td>\n",
       "        <td>Kumar</td>\n",
       "        <td>1985-07-20</td>\n",
       "        <td>M</td>\n",
       "        <td>Jr.Software Developer</td>\n",
       "        <td>40000.00</td>\n",
       "        <td>60000.00</td>\n",
       "    </tr>\n",
       "    <tr>\n",
       "        <td>E1005    </td>\n",
       "        <td>Ahmed</td>\n",
       "        <td>Hussain</td>\n",
       "        <td>1981-01-04</td>\n",
       "        <td>M</td>\n",
       "        <td>Jr. Architect</td>\n",
       "        <td>50000.00</td>\n",
       "        <td>70000.00</td>\n",
       "    </tr>\n",
       "    <tr>\n",
       "        <td>E1006    </td>\n",
       "        <td>Nancy</td>\n",
       "        <td>Allen</td>\n",
       "        <td>1978-02-06</td>\n",
       "        <td>F</td>\n",
       "        <td>Lead Architect</td>\n",
       "        <td>70000.00</td>\n",
       "        <td>100000.00</td>\n",
       "    </tr>\n",
       "    <tr>\n",
       "        <td>E1007    </td>\n",
       "        <td>Mary</td>\n",
       "        <td>Thomas</td>\n",
       "        <td>1975-05-05</td>\n",
       "        <td>F</td>\n",
       "        <td>Jr. Designer</td>\n",
       "        <td>60000.00</td>\n",
       "        <td>70000.00</td>\n",
       "    </tr>\n",
       "    <tr>\n",
       "        <td>E1008    </td>\n",
       "        <td>Bharath</td>\n",
       "        <td>Gupta</td>\n",
       "        <td>1985-05-06</td>\n",
       "        <td>M</td>\n",
       "        <td>Jr. Designer</td>\n",
       "        <td>60000.00</td>\n",
       "        <td>70000.00</td>\n",
       "    </tr>\n",
       "    <tr>\n",
       "        <td>E1009    </td>\n",
       "        <td>Andrea</td>\n",
       "        <td>Jones</td>\n",
       "        <td>1990-07-09</td>\n",
       "        <td>F</td>\n",
       "        <td>Sr. Designer</td>\n",
       "        <td>70000.00</td>\n",
       "        <td>90000.00</td>\n",
       "    </tr>\n",
       "    <tr>\n",
       "        <td>E1010    </td>\n",
       "        <td>Ann</td>\n",
       "        <td>Jacob</td>\n",
       "        <td>1982-03-30</td>\n",
       "        <td>F</td>\n",
       "        <td>Sr. Designer</td>\n",
       "        <td>70000.00</td>\n",
       "        <td>90000.00</td>\n",
       "    </tr>\n",
       "</table>"
      ],
      "text/plain": [
       "[('E1002    ', 'Alice', 'James', datetime.date(1972, 7, 31), 'F', 'Sr.Software Developer', Decimal('60000.00'), Decimal('80000.00')),\n",
       " ('E1003    ', 'Steve', 'Wells', datetime.date(1980, 8, 10), 'M', 'Jr.Software Developer', Decimal('40000.00'), Decimal('60000.00')),\n",
       " ('E1004    ', 'Santosh', 'Kumar', datetime.date(1985, 7, 20), 'M', 'Jr.Software Developer', Decimal('40000.00'), Decimal('60000.00')),\n",
       " ('E1005    ', 'Ahmed', 'Hussain', datetime.date(1981, 1, 4), 'M', 'Jr. Architect', Decimal('50000.00'), Decimal('70000.00')),\n",
       " ('E1006    ', 'Nancy', 'Allen', datetime.date(1978, 2, 6), 'F', 'Lead Architect', Decimal('70000.00'), Decimal('100000.00')),\n",
       " ('E1007    ', 'Mary', 'Thomas', datetime.date(1975, 5, 5), 'F', 'Jr. Designer', Decimal('60000.00'), Decimal('70000.00')),\n",
       " ('E1008    ', 'Bharath', 'Gupta', datetime.date(1985, 5, 6), 'M', 'Jr. Designer', Decimal('60000.00'), Decimal('70000.00')),\n",
       " ('E1009    ', 'Andrea', 'Jones', datetime.date(1990, 7, 9), 'F', 'Sr. Designer', Decimal('70000.00'), Decimal('90000.00')),\n",
       " ('E1010    ', 'Ann', 'Jacob', datetime.date(1982, 3, 30), 'F', 'Sr. Designer', Decimal('70000.00'), Decimal('90000.00'))]"
      ]
     },
     "execution_count": 13,
     "metadata": {},
     "output_type": "execute_result"
    }
   ],
   "source": [
    "%%sql\n",
    "SELECT * FROM EMPSALARY;"
   ]
  },
  {
   "cell_type": "code",
   "execution_count": 14,
   "metadata": {},
   "outputs": [
    {
     "name": "stdout",
     "output_type": "stream",
     "text": [
      " * ibm_db_sa://qsk32012:***@6667d8e9-9d4d-4ccb-ba32-21da3bb5aafc.c1ogj3sd0tgtu0lqde00.databases.appdomain.cloud:30376/BLUDB\n",
      "Done.\n"
     ]
    },
    {
     "data": {
      "text/plain": [
       "[]"
      ]
     },
     "execution_count": 14,
     "metadata": {},
     "output_type": "execute_result"
    }
   ],
   "source": [
    "%%sql\n",
    "DROP VIEW EMPSALARY;"
   ]
  }
 ],
 "metadata": {
  "kernelspec": {
   "display_name": "Python 3.9.7",
   "language": "python",
   "name": "python3"
  },
  "language_info": {
   "codemirror_mode": {
    "name": "ipython",
    "version": 3
   },
   "file_extension": ".py",
   "mimetype": "text/x-python",
   "name": "python",
   "nbconvert_exporter": "python",
   "pygments_lexer": "ipython3",
   "version": "3.9.7"
  },
  "orig_nbformat": 4,
  "vscode": {
   "interpreter": {
    "hash": "ee2168c5aceef376d5c4b9b9f792cda263b847a795b3111969e7bf3b612b7f86"
   }
  }
 },
 "nbformat": 4,
 "nbformat_minor": 2
}
