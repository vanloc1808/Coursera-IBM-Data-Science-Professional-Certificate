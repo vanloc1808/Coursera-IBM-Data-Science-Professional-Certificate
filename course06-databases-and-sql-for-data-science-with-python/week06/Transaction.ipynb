{
 "cells": [
  {
   "cell_type": "code",
   "execution_count": null,
   "metadata": {},
   "outputs": [],
   "source": [
    "%load_ext sql"
   ]
  },
  {
   "cell_type": "code",
   "execution_count": null,
   "metadata": {},
   "outputs": [],
   "source": [
    "# Enter the connection string for your Db2 on Cloud database instance below\n",
    "# %sql ibm_db_sa://my-username:my-password@my-hostname:my-port/my-db-name?security=SSL\n",
    "%sql ibm_db_sa://qsk32012:afwCXo7aE3e3Uscx@6667d8e9-9d4d-4ccb-ba32-21da3bb5aafc.c1ogj3sd0tgtu0lqde00.databases.appdomain.cloud:30376/BLUDB?security=SSL"
   ]
  },
  {
   "cell_type": "code",
   "execution_count": null,
   "metadata": {},
   "outputs": [],
   "source": [
    "%%sql\n",
    "--#SET TERMINATOR @\n",
    "CREATE PROCEDURE TRANSACTION_ROSE                           -- Name of this stored procedure routine\n",
    "\n",
    "LANGUAGE SQL                                                -- Language used in this routine \n",
    "MODIFIES SQL DATA                                           -- This routine will only write/modify data in the table\n",
    "\n",
    "BEGIN\n",
    "\n",
    "        DECLARE SQLCODE INTEGER DEFAULT 0;                  -- Host variable SQLCODE declared and assigned 0\n",
    "        DECLARE retcode INTEGER DEFAULT 0;                  -- Local variable retcode with declared and assigned 0\n",
    "        DECLARE CONTINUE HANDLER FOR SQLEXCEPTION           -- Handler tell the routine what to do when an error or warning occurs\n",
    "        SET retcode = SQLCODE;                              -- Value of SQLCODE assigned to local variable retcode\n",
    "        \n",
    "        UPDATE BankAccounts\n",
    "        SET Balance = Balance-200\n",
    "        WHERE AccountName = 'Rose';\n",
    "        \n",
    "        UPDATE BankAccounts\n",
    "        SET Balance = Balance+200\n",
    "        WHERE AccountName = 'Shoe Shop';\n",
    "        \n",
    "        UPDATE ShoeShop\n",
    "        SET Stock = Stock-1\n",
    "        WHERE Product = 'Boots';\n",
    "        \n",
    "        UPDATE BankAccounts\n",
    "        SET Balance = Balance-300\n",
    "        WHERE AccountName = 'Rose';\n",
    "\n",
    "        \n",
    "        IF retcode < 0 THEN                                  --  SQLCODE returns negative value for error, zero for success, positive value for warning\n",
    "            ROLLBACK WORK;\n",
    "        \n",
    "        ELSE\n",
    "            COMMIT WORK;\n",
    "        \n",
    "        END IF;\n",
    "        \n",
    "END\n",
    "@                                                            -- Routine termination character"
   ]
  },
  {
   "cell_type": "code",
   "execution_count": null,
   "metadata": {},
   "outputs": [],
   "source": [
    "%%sql\n",
    "CALL TRANSACTION_ROSE;  -- Caller query\n",
    "\n",
    "SELECT * FROM BankAccounts;\n",
    "\n",
    "SELECT * FROM ShoeShop;"
   ]
  },
  {
   "cell_type": "code",
   "execution_count": null,
   "metadata": {},
   "outputs": [],
   "source": [
    "%%sql\n",
    "--#SET TERMINATOR @\n",
    "CREATE PROCEDURE TRANSACTION_JAMES                          -- Name of this stored procedure routine\n",
    "\n",
    "LANGUAGE SQL                                                -- Language used in this routine \n",
    "MODIFIES SQL DATA                                           -- This routine will only write/modify data in the table\n",
    "\n",
    "BEGIN\n",
    "\n",
    "        DECLARE SQLCODE INTEGER DEFAULT 0;                  -- Host variable SQLCODE declared and assigned 0\n",
    "        DECLARE retcode INTEGER DEFAULT 0;                  -- Local variable retcode with declared and assigned 0\n",
    "        DECLARE CONTINUE HANDLER FOR SQLEXCEPTION           -- Handler tell the routine what to do when an error or warning occurs\n",
    "        SET retcode = SQLCODE;                              -- Value of SQLCODE assigned to local variable retcode\n",
    "        \n",
    "        UPDATE BankAccounts\n",
    "        SET Balance = Balance-1200\n",
    "        WHERE AccountName = 'James';\n",
    "        \n",
    "        UPDATE BankAccounts\n",
    "        SET Balance = Balance+1200\n",
    "        WHERE AccountName = 'Shoe Shop';\n",
    "        \n",
    "        UPDATE ShoeShop\n",
    "        SET Stock = Stock-4\n",
    "        WHERE Product = 'Trainers';\n",
    "        \n",
    "        UPDATE BankAccounts\n",
    "        SET Balance = Balance-150\n",
    "        WHERE AccountName = 'James';\n",
    "\n",
    "        \n",
    "        IF retcode < 0 THEN                                  --  SQLCODE returns negative value for error, zero for success, positive value for warning\n",
    "            ROLLBACK WORK;\n",
    "        \n",
    "        ELSE\n",
    "            COMMIT WORK;\n",
    "        \n",
    "        END IF;\n",
    "        \n",
    "END\n",
    "@                                                            -- Routine termination character"
   ]
  }
 ],
 "metadata": {
  "language_info": {
   "name": "python"
  },
  "orig_nbformat": 4
 },
 "nbformat": 4,
 "nbformat_minor": 2
}
