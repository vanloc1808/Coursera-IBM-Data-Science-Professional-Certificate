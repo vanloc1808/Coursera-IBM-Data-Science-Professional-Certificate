{
 "cells": [
  {
   "cell_type": "code",
   "execution_count": 1,
   "metadata": {},
   "outputs": [],
   "source": [
    "%load_ext sql"
   ]
  },
  {
   "cell_type": "code",
   "execution_count": 2,
   "metadata": {},
   "outputs": [],
   "source": [
    "# Enter the connection string for your Db2 on Cloud database instance below\n",
    "# %sql ibm_db_sa://my-username:my-password@my-hostname:my-port/my-db-name?security=SSL\n",
    "%sql ibm_db_sa://qsk32012:afwCXo7aE3e3Uscx@6667d8e9-9d4d-4ccb-ba32-21da3bb5aafc.c1ogj3sd0tgtu0lqde00.databases.appdomain.cloud:30376/BLUDB?security=SSL"
   ]
  },
  {
   "cell_type": "code",
   "execution_count": 3,
   "metadata": {},
   "outputs": [
    {
     "name": "stdout",
     "output_type": "stream",
     "text": [
      " * ibm_db_sa://qsk32012:***@6667d8e9-9d4d-4ccb-ba32-21da3bb5aafc.c1ogj3sd0tgtu0lqde00.databases.appdomain.cloud:30376/BLUDB\n",
      "(ibm_db_dbi.ProgrammingError) ibm_db_dbi::ProgrammingError: Statement Execute Failed: [IBM][CLI Driver][DB2/LINUXX8664] SQL0778N  End label \"@\" is not the same as the begin label.  LINE NUMBER=18.  SQLSTATE=428D5\\r SQLCODE=-778\n",
      "[SQL: --#SET TERMINATOR @\n",
      "CREATE PROCEDURE RETRIEVE_ALL       -- Name of this stored procedure routine\n",
      "\n",
      "LANGUAGE SQL                        -- Language used in this routine \n",
      "READS SQL DATA                      -- This routine will only read data from the table\n",
      "\n",
      "DYNAMIC RESULT SETS 1               -- Maximum possible number of result-sets to be returned to the caller query\n",
      "\n",
      "BEGIN \n",
      "\n",
      "    DECLARE C1 CURSOR               -- CURSOR C1 will handle the result-set by retrieving records row by row from the table\n",
      "    WITH RETURN FOR                 -- This routine will return retrieved records as a result-set to the caller query\n",
      "    \n",
      "    SELECT * FROM PETSALE;          -- Query to retrieve all the records from the table\n",
      "    \n",
      "    OPEN C1;                        -- Keeping the CURSOR C1 open so that result-set can be returned to the caller query\n",
      "\n",
      "END\n",
      "@                                   -- Routine termination character]\n",
      "(Background on this error at: http://sqlalche.me/e/13/f405)\n"
     ]
    }
   ],
   "source": [
    "%%sql\n",
    "--#SET TERMINATOR @\n",
    "CREATE PROCEDURE RETRIEVE_ALL       -- Name of this stored procedure routine\n",
    "\n",
    "LANGUAGE SQL                        -- Language used in this routine \n",
    "READS SQL DATA                      -- This routine will only read data from the table\n",
    "\n",
    "DYNAMIC RESULT SETS 1               -- Maximum possible number of result-sets to be returned to the caller query\n",
    "\n",
    "BEGIN \n",
    "\n",
    "    DECLARE C1 CURSOR               -- CURSOR C1 will handle the result-set by retrieving records row by row from the table\n",
    "    WITH RETURN FOR                 -- This routine will return retrieved records as a result-set to the caller query\n",
    "    \n",
    "    SELECT * FROM PETSALE;          -- Query to retrieve all the records from the table\n",
    "    \n",
    "    OPEN C1;                        -- Keeping the CURSOR C1 open so that result-set can be returned to the caller query\n",
    "\n",
    "END\n",
    "@                                   -- Routine termination character"
   ]
  },
  {
   "cell_type": "code",
   "execution_count": 4,
   "metadata": {},
   "outputs": [
    {
     "name": "stdout",
     "output_type": "stream",
     "text": [
      " * ibm_db_sa://qsk32012:***@6667d8e9-9d4d-4ccb-ba32-21da3bb5aafc.c1ogj3sd0tgtu0lqde00.databases.appdomain.cloud:30376/BLUDB\n",
      "Done.\n",
      "(ibm_db_dbi.ProgrammingError) ibm_db_dbi::ProgrammingError: The last call to execute did not produce any result set.\n",
      "(Background on this error at: http://sqlalche.me/e/13/f405)\n"
     ]
    }
   ],
   "source": [
    "%%sql\n",
    "CALL RETRIEVE_ALL;      -- Caller query"
   ]
  },
  {
   "cell_type": "code",
   "execution_count": null,
   "metadata": {},
   "outputs": [],
   "source": [
    "%%sql\n",
    "DROP PROCEDURE RETRIEVE_ALL;\n",
    "\n",
    "CALL RETRIEVE_ALL;"
   ]
  },
  {
   "cell_type": "code",
   "execution_count": 5,
   "metadata": {},
   "outputs": [
    {
     "name": "stdout",
     "output_type": "stream",
     "text": [
      " * ibm_db_sa://qsk32012:***@6667d8e9-9d4d-4ccb-ba32-21da3bb5aafc.c1ogj3sd0tgtu0lqde00.databases.appdomain.cloud:30376/BLUDB\n",
      "(ibm_db_dbi.ProgrammingError) ibm_db_dbi::ProgrammingError: Statement Execute Failed: [IBM][CLI Driver][DB2/LINUXX8664] SQL0778N  End label \"@\" is not the same as the begin label.  LINE NUMBER=27.  SQLSTATE=428D5\\r SQLCODE=-778\n",
      "[SQL: --#SET TERMINATOR @\n",
      "CREATE PROCEDURE UPDATE_SALEPRICE ( \n",
      "    IN Animal_ID INTEGER, IN Animal_Health VARCHAR(5) )     -- ( { IN/OUT type } { parameter-name } { data-type }, ... )\n",
      "\n",
      "LANGUAGE SQL                                                -- Language used in this routine\n",
      "MODIFIES SQL DATA                                           -- This routine will only write/modify data in the table\n",
      "\n",
      "BEGIN \n",
      "\n",
      "    IF Animal_Health = 'BAD' THEN                           -- Start of conditional statement\n",
      "        UPDATE PETSALE\n",
      "        SET SALEPRICE = SALEPRICE - (SALEPRICE * 0.25)\n",
      "        WHERE ID = Animal_ID;\n",
      "    \n",
      "    ELSEIF Animal_Health = 'WORSE' THEN\n",
      "        UPDATE PETSALE\n",
      "        SET SALEPRICE = SALEPRICE - (SALEPRICE * 0.5)\n",
      "        WHERE ID = Animal_ID;\n",
      "        \n",
      "    ELSE\n",
      "        UPDATE PETSALE\n",
      "        SET SALEPRICE = SALEPRICE\n",
      "        WHERE ID = Animal_ID;\n",
      "\n",
      "    END IF;                                                 -- End of conditional statement\n",
      "    \n",
      "END\n",
      "@                                                           -- Routine termination character]\n",
      "(Background on this error at: http://sqlalche.me/e/13/f405)\n"
     ]
    }
   ],
   "source": [
    "%%sql\n",
    "--#SET TERMINATOR @\n",
    "CREATE PROCEDURE UPDATE_SALEPRICE ( \n",
    "    IN Animal_ID INTEGER, IN Animal_Health VARCHAR(5) )     -- ( { IN/OUT type } { parameter-name } { data-type }, ... )\n",
    "\n",
    "LANGUAGE SQL                                                -- Language used in this routine\n",
    "MODIFIES SQL DATA                                           -- This routine will only write/modify data in the table\n",
    "\n",
    "BEGIN \n",
    "\n",
    "    IF Animal_Health = 'BAD' THEN                           -- Start of conditional statement\n",
    "        UPDATE PETSALE\n",
    "        SET SALEPRICE = SALEPRICE - (SALEPRICE * 0.25)\n",
    "        WHERE ID = Animal_ID;\n",
    "    \n",
    "    ELSEIF Animal_Health = 'WORSE' THEN\n",
    "        UPDATE PETSALE\n",
    "        SET SALEPRICE = SALEPRICE - (SALEPRICE * 0.5)\n",
    "        WHERE ID = Animal_ID;\n",
    "        \n",
    "    ELSE\n",
    "        UPDATE PETSALE\n",
    "        SET SALEPRICE = SALEPRICE\n",
    "        WHERE ID = Animal_ID;\n",
    "\n",
    "    END IF;                                                 -- End of conditional statement\n",
    "    \n",
    "END\n",
    "@                                                           -- Routine termination character"
   ]
  },
  {
   "cell_type": "code",
   "execution_count": 6,
   "metadata": {},
   "outputs": [
    {
     "name": "stdout",
     "output_type": "stream",
     "text": [
      " * ibm_db_sa://qsk32012:***@6667d8e9-9d4d-4ccb-ba32-21da3bb5aafc.c1ogj3sd0tgtu0lqde00.databases.appdomain.cloud:30376/BLUDB\n",
      "(ibm_db_dbi.OperationalError) ibm_db_dbi::OperationalError: Statement Execute Failed: [IBM][CLI Driver][DB2/LINUXX8664] SQL1646N  A routine failed because the fenced user ID cannot access required files in the sqllib directory or other instance or database directories.\\r SQLCODE=-1646\n",
      "[SQL: CALL RETRIEVE_ALL;]\n",
      "(Background on this error at: http://sqlalche.me/e/13/e3q8)\n"
     ]
    }
   ],
   "source": [
    "%%sql\n",
    "CALL RETRIEVE_ALL;\n",
    "\n",
    "CALL UPDATE_SALEPRICE(1, 'BAD');        -- Caller query\n",
    "\n",
    "CALL RETRIEVE_ALL;"
   ]
  },
  {
   "cell_type": "code",
   "execution_count": null,
   "metadata": {},
   "outputs": [],
   "source": [
    "%%sql\n",
    "CALL RETRIEVE_ALL;\n",
    "\n",
    "CALL UPDATE_SALEPRICE(3, 'WORSE');      -- Caller query\n",
    "\n",
    "CALL RETRIEVE_ALL;"
   ]
  }
 ],
 "metadata": {
  "kernelspec": {
   "display_name": "Python 3.9.7",
   "language": "python",
   "name": "python3"
  },
  "language_info": {
   "codemirror_mode": {
    "name": "ipython",
    "version": 3
   },
   "file_extension": ".py",
   "mimetype": "text/x-python",
   "name": "python",
   "nbconvert_exporter": "python",
   "pygments_lexer": "ipython3",
   "version": "3.9.7"
  },
  "orig_nbformat": 4,
  "vscode": {
   "interpreter": {
    "hash": "ee2168c5aceef376d5c4b9b9f792cda263b847a795b3111969e7bf3b612b7f86"
   }
  }
 },
 "nbformat": 4,
 "nbformat_minor": 2
}
