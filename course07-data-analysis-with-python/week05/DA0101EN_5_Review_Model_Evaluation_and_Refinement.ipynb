{
  "cells": [
    {
      "cell_type": "markdown",
      "metadata": {
        "id": "Z9xxuWM00WfK"
      },
      "source": [
        "<p style=\"text-align:center\">\n",
        "    <a href=\"https://skills.network/?utm_medium=Exinfluencer&utm_source=Exinfluencer&utm_content=000026UJ&utm_term=10006555&utm_id=NA-SkillsNetwork-Channel-SkillsNetworkCoursesIBMDeveloperSkillsNetworkDA0101ENSkillsNetwork20235326-2022-01-01\" target=\"_blank\">\n",
        "    <img src=\"https://cf-courses-data.s3.us.cloud-object-storage.appdomain.cloud/assets/logos/SN_web_lightmode.png\" width=\"200\" alt=\"Skills Network Logo\"  />\n",
        "    </a>\n",
        "</p>\n",
        "\n",
        "# Model Evaluation and Refinement\n",
        "\n",
        "Estimated time needed: **30** minutes\n",
        "\n",
        "## Objectives\n",
        "\n",
        "After completing this lab you will be able to:\n",
        "\n",
        "*   Evaluate and refine prediction models\n"
      ]
    },
    {
      "cell_type": "markdown",
      "metadata": {
        "id": "B1ERWwhh0WfP"
      },
      "source": [
        "<h2>Table of Contents</h2>\n",
        "<ul>\n",
        "    <li><a href=\"https://#ref1\">Model Evaluation </a></li>\n",
        "    <li><a href=\"https://#ref2\">Over-fitting, Under-fitting and Model Selection </a></li>\n",
        "    <li><a href=\"https://#ref3\">Ridge Regression </a></li>\n",
        "    <li><a href=\"https://#ref4\">Grid Search</a></li>\n",
        "</ul>\n"
      ]
    },
    {
      "cell_type": "markdown",
      "metadata": {
        "id": "YM42qUuY0WfQ"
      },
      "source": [
        "This dataset was hosted on IBM Cloud object. Click <a href=\"https://cocl.us/DA101EN_object_storage?utm_medium=Exinfluencer&utm_source=Exinfluencer&utm_content=000026UJ&utm_term=10006555&utm_id=NA-SkillsNetwork-Channel-SkillsNetworkCoursesIBMDeveloperSkillsNetworkDA0101ENSkillsNetwork20235326-2022-01-01\">HERE</a> for free storage.\n"
      ]
    },
    {
      "cell_type": "code",
      "execution_count": 116,
      "metadata": {
        "colab": {
          "base_uri": "https://localhost:8080/"
        },
        "id": "S6k_jyC70WfR",
        "outputId": "041b8978-bd6e-4e78-9598-d61c30869d3e"
      },
      "outputs": [
        {
          "output_type": "stream",
          "name": "stdout",
          "text": [
            "/bin/bash: mamba: command not found\n",
            "/bin/bash: mamba: command not found\n",
            "/bin/bash: mamba: command not found\n",
            "Looking in indexes: https://pypi.org/simple, https://us-python.pkg.dev/colab-wheels/public/simple/\n",
            "Requirement already satisfied: ipywidgets in /usr/local/lib/python3.7/dist-packages (7.7.1)\n",
            "Requirement already satisfied: jupyterlab-widgets>=1.0.0 in /usr/local/lib/python3.7/dist-packages (from ipywidgets) (1.1.1)\n",
            "Requirement already satisfied: widgetsnbextension~=3.6.0 in /usr/local/lib/python3.7/dist-packages (from ipywidgets) (3.6.1)\n",
            "Requirement already satisfied: ipykernel>=4.5.1 in /usr/local/lib/python3.7/dist-packages (from ipywidgets) (4.10.1)\n",
            "Requirement already satisfied: ipython>=4.0.0 in /usr/local/lib/python3.7/dist-packages (from ipywidgets) (5.5.0)\n",
            "Requirement already satisfied: traitlets>=4.3.1 in /usr/local/lib/python3.7/dist-packages (from ipywidgets) (5.1.1)\n",
            "Requirement already satisfied: ipython-genutils~=0.2.0 in /usr/local/lib/python3.7/dist-packages (from ipywidgets) (0.2.0)\n",
            "Requirement already satisfied: tornado>=4.0 in /usr/local/lib/python3.7/dist-packages (from ipykernel>=4.5.1->ipywidgets) (5.1.1)\n",
            "Requirement already satisfied: jupyter-client in /usr/local/lib/python3.7/dist-packages (from ipykernel>=4.5.1->ipywidgets) (5.3.5)\n",
            "Requirement already satisfied: pickleshare in /usr/local/lib/python3.7/dist-packages (from ipython>=4.0.0->ipywidgets) (0.7.5)\n",
            "Requirement already satisfied: prompt-toolkit<2.0.0,>=1.0.4 in /usr/local/lib/python3.7/dist-packages (from ipython>=4.0.0->ipywidgets) (1.0.18)\n",
            "Requirement already satisfied: pexpect in /usr/local/lib/python3.7/dist-packages (from ipython>=4.0.0->ipywidgets) (4.8.0)\n",
            "Requirement already satisfied: decorator in /usr/local/lib/python3.7/dist-packages (from ipython>=4.0.0->ipywidgets) (4.4.2)\n",
            "Requirement already satisfied: setuptools>=18.5 in /usr/local/lib/python3.7/dist-packages (from ipython>=4.0.0->ipywidgets) (57.4.0)\n",
            "Requirement already satisfied: simplegeneric>0.8 in /usr/local/lib/python3.7/dist-packages (from ipython>=4.0.0->ipywidgets) (0.8.1)\n",
            "Requirement already satisfied: pygments in /usr/local/lib/python3.7/dist-packages (from ipython>=4.0.0->ipywidgets) (2.6.1)\n",
            "Requirement already satisfied: six>=1.9.0 in /usr/local/lib/python3.7/dist-packages (from prompt-toolkit<2.0.0,>=1.0.4->ipython>=4.0.0->ipywidgets) (1.15.0)\n",
            "Requirement already satisfied: wcwidth in /usr/local/lib/python3.7/dist-packages (from prompt-toolkit<2.0.0,>=1.0.4->ipython>=4.0.0->ipywidgets) (0.2.5)\n",
            "Requirement already satisfied: notebook>=4.4.1 in /usr/local/lib/python3.7/dist-packages (from widgetsnbextension~=3.6.0->ipywidgets) (5.3.1)\n",
            "Requirement already satisfied: nbconvert in /usr/local/lib/python3.7/dist-packages (from notebook>=4.4.1->widgetsnbextension~=3.6.0->ipywidgets) (5.6.1)\n",
            "Requirement already satisfied: jupyter-core>=4.4.0 in /usr/local/lib/python3.7/dist-packages (from notebook>=4.4.1->widgetsnbextension~=3.6.0->ipywidgets) (4.11.1)\n",
            "Requirement already satisfied: jinja2 in /usr/local/lib/python3.7/dist-packages (from notebook>=4.4.1->widgetsnbextension~=3.6.0->ipywidgets) (2.11.3)\n",
            "Requirement already satisfied: terminado>=0.8.1 in /usr/local/lib/python3.7/dist-packages (from notebook>=4.4.1->widgetsnbextension~=3.6.0->ipywidgets) (0.13.3)\n",
            "Requirement already satisfied: nbformat in /usr/local/lib/python3.7/dist-packages (from notebook>=4.4.1->widgetsnbextension~=3.6.0->ipywidgets) (5.4.0)\n",
            "Requirement already satisfied: Send2Trash in /usr/local/lib/python3.7/dist-packages (from notebook>=4.4.1->widgetsnbextension~=3.6.0->ipywidgets) (1.8.0)\n",
            "Requirement already satisfied: python-dateutil>=2.1 in /usr/local/lib/python3.7/dist-packages (from jupyter-client->ipykernel>=4.5.1->ipywidgets) (2.8.2)\n",
            "Requirement already satisfied: pyzmq>=13 in /usr/local/lib/python3.7/dist-packages (from jupyter-client->ipykernel>=4.5.1->ipywidgets) (23.2.0)\n",
            "Requirement already satisfied: ptyprocess in /usr/local/lib/python3.7/dist-packages (from terminado>=0.8.1->notebook>=4.4.1->widgetsnbextension~=3.6.0->ipywidgets) (0.7.0)\n",
            "Requirement already satisfied: MarkupSafe>=0.23 in /usr/local/lib/python3.7/dist-packages (from jinja2->notebook>=4.4.1->widgetsnbextension~=3.6.0->ipywidgets) (2.0.1)\n",
            "Requirement already satisfied: defusedxml in /usr/local/lib/python3.7/dist-packages (from nbconvert->notebook>=4.4.1->widgetsnbextension~=3.6.0->ipywidgets) (0.7.1)\n",
            "Requirement already satisfied: bleach in /usr/local/lib/python3.7/dist-packages (from nbconvert->notebook>=4.4.1->widgetsnbextension~=3.6.0->ipywidgets) (5.0.1)\n",
            "Requirement already satisfied: pandocfilters>=1.4.1 in /usr/local/lib/python3.7/dist-packages (from nbconvert->notebook>=4.4.1->widgetsnbextension~=3.6.0->ipywidgets) (1.5.0)\n",
            "Requirement already satisfied: testpath in /usr/local/lib/python3.7/dist-packages (from nbconvert->notebook>=4.4.1->widgetsnbextension~=3.6.0->ipywidgets) (0.6.0)\n",
            "Requirement already satisfied: entrypoints>=0.2.2 in /usr/local/lib/python3.7/dist-packages (from nbconvert->notebook>=4.4.1->widgetsnbextension~=3.6.0->ipywidgets) (0.4)\n",
            "Requirement already satisfied: mistune<2,>=0.8.1 in /usr/local/lib/python3.7/dist-packages (from nbconvert->notebook>=4.4.1->widgetsnbextension~=3.6.0->ipywidgets) (0.8.4)\n",
            "Requirement already satisfied: jsonschema>=2.6 in /usr/local/lib/python3.7/dist-packages (from nbformat->notebook>=4.4.1->widgetsnbextension~=3.6.0->ipywidgets) (4.3.3)\n",
            "Requirement already satisfied: fastjsonschema in /usr/local/lib/python3.7/dist-packages (from nbformat->notebook>=4.4.1->widgetsnbextension~=3.6.0->ipywidgets) (2.15.3)\n",
            "Requirement already satisfied: importlib-metadata in /usr/local/lib/python3.7/dist-packages (from jsonschema>=2.6->nbformat->notebook>=4.4.1->widgetsnbextension~=3.6.0->ipywidgets) (4.12.0)\n",
            "Requirement already satisfied: pyrsistent!=0.17.0,!=0.17.1,!=0.17.2,>=0.14.0 in /usr/local/lib/python3.7/dist-packages (from jsonschema>=2.6->nbformat->notebook>=4.4.1->widgetsnbextension~=3.6.0->ipywidgets) (0.18.1)\n",
            "Requirement already satisfied: attrs>=17.4.0 in /usr/local/lib/python3.7/dist-packages (from jsonschema>=2.6->nbformat->notebook>=4.4.1->widgetsnbextension~=3.6.0->ipywidgets) (21.4.0)\n",
            "Requirement already satisfied: typing-extensions in /usr/local/lib/python3.7/dist-packages (from jsonschema>=2.6->nbformat->notebook>=4.4.1->widgetsnbextension~=3.6.0->ipywidgets) (4.1.1)\n",
            "Requirement already satisfied: importlib-resources>=1.4.0 in /usr/local/lib/python3.7/dist-packages (from jsonschema>=2.6->nbformat->notebook>=4.4.1->widgetsnbextension~=3.6.0->ipywidgets) (5.8.0)\n",
            "Requirement already satisfied: zipp>=3.1.0 in /usr/local/lib/python3.7/dist-packages (from importlib-resources>=1.4.0->jsonschema>=2.6->nbformat->notebook>=4.4.1->widgetsnbextension~=3.6.0->ipywidgets) (3.8.0)\n",
            "Requirement already satisfied: webencodings in /usr/local/lib/python3.7/dist-packages (from bleach->nbconvert->notebook>=4.4.1->widgetsnbextension~=3.6.0->ipywidgets) (0.5.1)\n"
          ]
        }
      ],
      "source": [
        "#install specific version of libraries used in lab\n",
        "! mamba install pandas==1.3.3 -y\n",
        "! mamba install numpy=1.21.2 -y\n",
        "! mamba install sklearn=0.20.1 -y\n",
        "! pip install ipywidgets"
      ]
    },
    {
      "cell_type": "code",
      "execution_count": 117,
      "metadata": {
        "id": "lBVRbS-n0WfS"
      },
      "outputs": [],
      "source": [
        "import pandas as pd\n",
        "import numpy as np\n",
        "import seaborn as sns\n",
        "import matplotlib.pyplot as plt\n",
        "\n",
        "# Import clean data \n",
        "path = 'https://cf-courses-data.s3.us.cloud-object-storage.appdomain.cloud/IBMDeveloperSkillsNetwork-DA0101EN-SkillsNetwork/labs/Data%20files/module_5_auto.csv'\n",
        "df = pd.read_csv(path)"
      ]
    },
    {
      "cell_type": "code",
      "execution_count": 118,
      "metadata": {
        "id": "8wevCXOb0WfS"
      },
      "outputs": [],
      "source": [
        "df.to_csv('module_5_auto.csv')"
      ]
    },
    {
      "cell_type": "markdown",
      "metadata": {
        "id": "b3SbZ0yH0WfT"
      },
      "source": [
        "First, let's only use numeric data:\n"
      ]
    },
    {
      "cell_type": "code",
      "execution_count": 119,
      "metadata": {
        "colab": {
          "base_uri": "https://localhost:8080/",
          "height": 317
        },
        "id": "kOn7apc-0WfT",
        "outputId": "0a642c07-0829-46a0-d772-8bd6f107e22e"
      },
      "outputs": [
        {
          "output_type": "execute_result",
          "data": {
            "text/plain": [
              "   Unnamed: 0  Unnamed: 0.1  symboling  normalized-losses  wheel-base  \\\n",
              "0           0             0          3                122        88.6   \n",
              "1           1             1          3                122        88.6   \n",
              "2           2             2          1                122        94.5   \n",
              "3           3             3          2                164        99.8   \n",
              "4           4             4          2                164        99.4   \n",
              "\n",
              "     length     width  height  curb-weight  engine-size  ...  stroke  \\\n",
              "0  0.811148  0.890278    48.8         2548          130  ...    2.68   \n",
              "1  0.811148  0.890278    48.8         2548          130  ...    2.68   \n",
              "2  0.822681  0.909722    52.4         2823          152  ...    3.47   \n",
              "3  0.848630  0.919444    54.3         2337          109  ...    3.40   \n",
              "4  0.848630  0.922222    54.3         2824          136  ...    3.40   \n",
              "\n",
              "   compression-ratio  horsepower  peak-rpm  city-mpg  highway-mpg    price  \\\n",
              "0                9.0       111.0    5000.0        21           27  13495.0   \n",
              "1                9.0       111.0    5000.0        21           27  16500.0   \n",
              "2                9.0       154.0    5000.0        19           26  16500.0   \n",
              "3               10.0       102.0    5500.0        24           30  13950.0   \n",
              "4                8.0       115.0    5500.0        18           22  17450.0   \n",
              "\n",
              "   city-L/100km  diesel  gas  \n",
              "0     11.190476       0    1  \n",
              "1     11.190476       0    1  \n",
              "2     12.368421       0    1  \n",
              "3      9.791667       0    1  \n",
              "4     13.055556       0    1  \n",
              "\n",
              "[5 rows x 21 columns]"
            ],
            "text/html": [
              "\n",
              "  <div id=\"df-0247d392-b736-45f6-bf59-4358445d6b6e\">\n",
              "    <div class=\"colab-df-container\">\n",
              "      <div>\n",
              "<style scoped>\n",
              "    .dataframe tbody tr th:only-of-type {\n",
              "        vertical-align: middle;\n",
              "    }\n",
              "\n",
              "    .dataframe tbody tr th {\n",
              "        vertical-align: top;\n",
              "    }\n",
              "\n",
              "    .dataframe thead th {\n",
              "        text-align: right;\n",
              "    }\n",
              "</style>\n",
              "<table border=\"1\" class=\"dataframe\">\n",
              "  <thead>\n",
              "    <tr style=\"text-align: right;\">\n",
              "      <th></th>\n",
              "      <th>Unnamed: 0</th>\n",
              "      <th>Unnamed: 0.1</th>\n",
              "      <th>symboling</th>\n",
              "      <th>normalized-losses</th>\n",
              "      <th>wheel-base</th>\n",
              "      <th>length</th>\n",
              "      <th>width</th>\n",
              "      <th>height</th>\n",
              "      <th>curb-weight</th>\n",
              "      <th>engine-size</th>\n",
              "      <th>...</th>\n",
              "      <th>stroke</th>\n",
              "      <th>compression-ratio</th>\n",
              "      <th>horsepower</th>\n",
              "      <th>peak-rpm</th>\n",
              "      <th>city-mpg</th>\n",
              "      <th>highway-mpg</th>\n",
              "      <th>price</th>\n",
              "      <th>city-L/100km</th>\n",
              "      <th>diesel</th>\n",
              "      <th>gas</th>\n",
              "    </tr>\n",
              "  </thead>\n",
              "  <tbody>\n",
              "    <tr>\n",
              "      <th>0</th>\n",
              "      <td>0</td>\n",
              "      <td>0</td>\n",
              "      <td>3</td>\n",
              "      <td>122</td>\n",
              "      <td>88.6</td>\n",
              "      <td>0.811148</td>\n",
              "      <td>0.890278</td>\n",
              "      <td>48.8</td>\n",
              "      <td>2548</td>\n",
              "      <td>130</td>\n",
              "      <td>...</td>\n",
              "      <td>2.68</td>\n",
              "      <td>9.0</td>\n",
              "      <td>111.0</td>\n",
              "      <td>5000.0</td>\n",
              "      <td>21</td>\n",
              "      <td>27</td>\n",
              "      <td>13495.0</td>\n",
              "      <td>11.190476</td>\n",
              "      <td>0</td>\n",
              "      <td>1</td>\n",
              "    </tr>\n",
              "    <tr>\n",
              "      <th>1</th>\n",
              "      <td>1</td>\n",
              "      <td>1</td>\n",
              "      <td>3</td>\n",
              "      <td>122</td>\n",
              "      <td>88.6</td>\n",
              "      <td>0.811148</td>\n",
              "      <td>0.890278</td>\n",
              "      <td>48.8</td>\n",
              "      <td>2548</td>\n",
              "      <td>130</td>\n",
              "      <td>...</td>\n",
              "      <td>2.68</td>\n",
              "      <td>9.0</td>\n",
              "      <td>111.0</td>\n",
              "      <td>5000.0</td>\n",
              "      <td>21</td>\n",
              "      <td>27</td>\n",
              "      <td>16500.0</td>\n",
              "      <td>11.190476</td>\n",
              "      <td>0</td>\n",
              "      <td>1</td>\n",
              "    </tr>\n",
              "    <tr>\n",
              "      <th>2</th>\n",
              "      <td>2</td>\n",
              "      <td>2</td>\n",
              "      <td>1</td>\n",
              "      <td>122</td>\n",
              "      <td>94.5</td>\n",
              "      <td>0.822681</td>\n",
              "      <td>0.909722</td>\n",
              "      <td>52.4</td>\n",
              "      <td>2823</td>\n",
              "      <td>152</td>\n",
              "      <td>...</td>\n",
              "      <td>3.47</td>\n",
              "      <td>9.0</td>\n",
              "      <td>154.0</td>\n",
              "      <td>5000.0</td>\n",
              "      <td>19</td>\n",
              "      <td>26</td>\n",
              "      <td>16500.0</td>\n",
              "      <td>12.368421</td>\n",
              "      <td>0</td>\n",
              "      <td>1</td>\n",
              "    </tr>\n",
              "    <tr>\n",
              "      <th>3</th>\n",
              "      <td>3</td>\n",
              "      <td>3</td>\n",
              "      <td>2</td>\n",
              "      <td>164</td>\n",
              "      <td>99.8</td>\n",
              "      <td>0.848630</td>\n",
              "      <td>0.919444</td>\n",
              "      <td>54.3</td>\n",
              "      <td>2337</td>\n",
              "      <td>109</td>\n",
              "      <td>...</td>\n",
              "      <td>3.40</td>\n",
              "      <td>10.0</td>\n",
              "      <td>102.0</td>\n",
              "      <td>5500.0</td>\n",
              "      <td>24</td>\n",
              "      <td>30</td>\n",
              "      <td>13950.0</td>\n",
              "      <td>9.791667</td>\n",
              "      <td>0</td>\n",
              "      <td>1</td>\n",
              "    </tr>\n",
              "    <tr>\n",
              "      <th>4</th>\n",
              "      <td>4</td>\n",
              "      <td>4</td>\n",
              "      <td>2</td>\n",
              "      <td>164</td>\n",
              "      <td>99.4</td>\n",
              "      <td>0.848630</td>\n",
              "      <td>0.922222</td>\n",
              "      <td>54.3</td>\n",
              "      <td>2824</td>\n",
              "      <td>136</td>\n",
              "      <td>...</td>\n",
              "      <td>3.40</td>\n",
              "      <td>8.0</td>\n",
              "      <td>115.0</td>\n",
              "      <td>5500.0</td>\n",
              "      <td>18</td>\n",
              "      <td>22</td>\n",
              "      <td>17450.0</td>\n",
              "      <td>13.055556</td>\n",
              "      <td>0</td>\n",
              "      <td>1</td>\n",
              "    </tr>\n",
              "  </tbody>\n",
              "</table>\n",
              "<p>5 rows × 21 columns</p>\n",
              "</div>\n",
              "      <button class=\"colab-df-convert\" onclick=\"convertToInteractive('df-0247d392-b736-45f6-bf59-4358445d6b6e')\"\n",
              "              title=\"Convert this dataframe to an interactive table.\"\n",
              "              style=\"display:none;\">\n",
              "        \n",
              "  <svg xmlns=\"http://www.w3.org/2000/svg\" height=\"24px\"viewBox=\"0 0 24 24\"\n",
              "       width=\"24px\">\n",
              "    <path d=\"M0 0h24v24H0V0z\" fill=\"none\"/>\n",
              "    <path d=\"M18.56 5.44l.94 2.06.94-2.06 2.06-.94-2.06-.94-.94-2.06-.94 2.06-2.06.94zm-11 1L8.5 8.5l.94-2.06 2.06-.94-2.06-.94L8.5 2.5l-.94 2.06-2.06.94zm10 10l.94 2.06.94-2.06 2.06-.94-2.06-.94-.94-2.06-.94 2.06-2.06.94z\"/><path d=\"M17.41 7.96l-1.37-1.37c-.4-.4-.92-.59-1.43-.59-.52 0-1.04.2-1.43.59L10.3 9.45l-7.72 7.72c-.78.78-.78 2.05 0 2.83L4 21.41c.39.39.9.59 1.41.59.51 0 1.02-.2 1.41-.59l7.78-7.78 2.81-2.81c.8-.78.8-2.07 0-2.86zM5.41 20L4 18.59l7.72-7.72 1.47 1.35L5.41 20z\"/>\n",
              "  </svg>\n",
              "      </button>\n",
              "      \n",
              "  <style>\n",
              "    .colab-df-container {\n",
              "      display:flex;\n",
              "      flex-wrap:wrap;\n",
              "      gap: 12px;\n",
              "    }\n",
              "\n",
              "    .colab-df-convert {\n",
              "      background-color: #E8F0FE;\n",
              "      border: none;\n",
              "      border-radius: 50%;\n",
              "      cursor: pointer;\n",
              "      display: none;\n",
              "      fill: #1967D2;\n",
              "      height: 32px;\n",
              "      padding: 0 0 0 0;\n",
              "      width: 32px;\n",
              "    }\n",
              "\n",
              "    .colab-df-convert:hover {\n",
              "      background-color: #E2EBFA;\n",
              "      box-shadow: 0px 1px 2px rgba(60, 64, 67, 0.3), 0px 1px 3px 1px rgba(60, 64, 67, 0.15);\n",
              "      fill: #174EA6;\n",
              "    }\n",
              "\n",
              "    [theme=dark] .colab-df-convert {\n",
              "      background-color: #3B4455;\n",
              "      fill: #D2E3FC;\n",
              "    }\n",
              "\n",
              "    [theme=dark] .colab-df-convert:hover {\n",
              "      background-color: #434B5C;\n",
              "      box-shadow: 0px 1px 3px 1px rgba(0, 0, 0, 0.15);\n",
              "      filter: drop-shadow(0px 1px 2px rgba(0, 0, 0, 0.3));\n",
              "      fill: #FFFFFF;\n",
              "    }\n",
              "  </style>\n",
              "\n",
              "      <script>\n",
              "        const buttonEl =\n",
              "          document.querySelector('#df-0247d392-b736-45f6-bf59-4358445d6b6e button.colab-df-convert');\n",
              "        buttonEl.style.display =\n",
              "          google.colab.kernel.accessAllowed ? 'block' : 'none';\n",
              "\n",
              "        async function convertToInteractive(key) {\n",
              "          const element = document.querySelector('#df-0247d392-b736-45f6-bf59-4358445d6b6e');\n",
              "          const dataTable =\n",
              "            await google.colab.kernel.invokeFunction('convertToInteractive',\n",
              "                                                     [key], {});\n",
              "          if (!dataTable) return;\n",
              "\n",
              "          const docLinkHtml = 'Like what you see? Visit the ' +\n",
              "            '<a target=\"_blank\" href=https://colab.research.google.com/notebooks/data_table.ipynb>data table notebook</a>'\n",
              "            + ' to learn more about interactive tables.';\n",
              "          element.innerHTML = '';\n",
              "          dataTable['output_type'] = 'display_data';\n",
              "          await google.colab.output.renderOutput(dataTable, element);\n",
              "          const docLink = document.createElement('div');\n",
              "          docLink.innerHTML = docLinkHtml;\n",
              "          element.appendChild(docLink);\n",
              "        }\n",
              "      </script>\n",
              "    </div>\n",
              "  </div>\n",
              "  "
            ]
          },
          "metadata": {},
          "execution_count": 119
        }
      ],
      "source": [
        "df=df._get_numeric_data()\n",
        "df.head()"
      ]
    },
    {
      "cell_type": "markdown",
      "metadata": {
        "id": "XmHucjXs0WfV"
      },
      "source": [
        "Libraries for plotting:\n"
      ]
    },
    {
      "cell_type": "code",
      "execution_count": 120,
      "metadata": {
        "id": "8qAg0WJv0WfV"
      },
      "outputs": [],
      "source": [
        "from ipywidgets import interact, interactive, fixed, interact_manual"
      ]
    },
    {
      "cell_type": "markdown",
      "metadata": {
        "id": "mtKpfvKh0WfV"
      },
      "source": [
        "<h2>Functions for Plotting</h2>\n"
      ]
    },
    {
      "cell_type": "code",
      "execution_count": 121,
      "metadata": {
        "id": "1_8mHQ580WfW"
      },
      "outputs": [],
      "source": [
        "def distribution_plot(red_function, blue_function, red_name, blue_name, Title):\n",
        "    width = 12\n",
        "    height = 10\n",
        "    plt.figure(figsize=(width, height))\n",
        "\n",
        "    ax1 = sns.distplot(red_function, hist=False, color=\"r\", label=red_name)\n",
        "    ax2 = sns.distplot(blue_function, hist=False, color=\"b\", label=blue_name, ax=ax1)\n",
        "\n",
        "    plt.title(Title)\n",
        "    plt.xlabel('Price (in dollars)')\n",
        "    plt.ylabel('Proportion of Cars')\n",
        "\n",
        "    plt.legend()\n",
        "\n",
        "    plt.show()\n",
        "    plt.close()"
      ]
    },
    {
      "cell_type": "code",
      "execution_count": 122,
      "metadata": {
        "id": "OLoXlKFH0WfW"
      },
      "outputs": [],
      "source": [
        "def poly_plot(xtrain, xtest, y_train, y_test, lr,poly_transform):\n",
        "    width = 12\n",
        "    height = 10\n",
        "    plt.figure(figsize=(width, height))\n",
        "    \n",
        "    \n",
        "    #training data \n",
        "    #testing data \n",
        "    # lr:  linear regression object \n",
        "    #poly_transform:  polynomial transformation object \n",
        " \n",
        "    xmax=max([xtrain.values.max(), xtest.values.max()])\n",
        "\n",
        "    xmin=min([xtrain.values.min(), xtest.values.min()])\n",
        "\n",
        "    x=np.arange(xmin, xmax, 0.1)\n",
        "\n",
        "\n",
        "    plt.plot(xtrain, y_train, 'ro', label='Training Data')\n",
        "    plt.plot(xtest, y_test, 'go', label='Test Data')\n",
        "    plt.plot(x, lr.predict(poly_transform.fit_transform(x.reshape(-1, 1))), label='Predicted Function')\n",
        "    plt.ylim([-10000, 60000])\n",
        "    plt.ylabel('Price')\n",
        "    plt.legend()"
      ]
    },
    {
      "cell_type": "markdown",
      "metadata": {
        "id": "kte4QyH-0WfX"
      },
      "source": [
        "<h2 id=\"ref1\">Part 1: Training and Testing</h2>\n",
        "\n",
        "<p>An important step in testing your model is to split your data into training and testing data. We will place the target data <b>price</b> in a separate dataframe <b>y_data</b>:</p>\n"
      ]
    },
    {
      "cell_type": "code",
      "execution_count": 123,
      "metadata": {
        "id": "426aROeb0WfX"
      },
      "outputs": [],
      "source": [
        "y_data = df['price']"
      ]
    },
    {
      "cell_type": "markdown",
      "metadata": {
        "id": "h7T8VU430WfX"
      },
      "source": [
        "Drop price data in dataframe **x_data**:\n"
      ]
    },
    {
      "cell_type": "code",
      "execution_count": 124,
      "metadata": {
        "id": "7DFvhebL0WfX"
      },
      "outputs": [],
      "source": [
        "x_data=df.drop('price',axis=1)"
      ]
    },
    {
      "cell_type": "markdown",
      "metadata": {
        "id": "yCQC6tnH0WfY"
      },
      "source": [
        "Now, we randomly split our data into training and testing data using the function <b>train_test_split</b>.\n"
      ]
    },
    {
      "cell_type": "code",
      "execution_count": 125,
      "metadata": {
        "colab": {
          "base_uri": "https://localhost:8080/"
        },
        "id": "KZSOXd1M0WfY",
        "outputId": "aa3043c9-0270-4c49-8ac9-c5047e573c17"
      },
      "outputs": [
        {
          "output_type": "stream",
          "name": "stdout",
          "text": [
            "number of test samples : 21\n",
            "number of training samples: 180\n"
          ]
        }
      ],
      "source": [
        "from sklearn.model_selection import train_test_split\n",
        "\n",
        "\n",
        "x_train, x_test, y_train, y_test = train_test_split(x_data, y_data, test_size=0.10, random_state=1)\n",
        "\n",
        "\n",
        "print(\"number of test samples :\", x_test.shape[0])\n",
        "print(\"number of training samples:\",x_train.shape[0])\n"
      ]
    },
    {
      "cell_type": "markdown",
      "metadata": {
        "id": "Q1XB9EpM0WfY"
      },
      "source": [
        "The <b>test_size</b> parameter sets the proportion of data that is split into the testing set. In the above, the testing set is 10% of the total dataset.\n"
      ]
    },
    {
      "cell_type": "markdown",
      "metadata": {
        "id": "gI_PG7aR0WfZ"
      },
      "source": [
        "<div class=\"alert alert-danger alertdanger\" style=\"margin-top: 20px\">\n",
        "<h1> Question  #1):</h1>\n",
        "\n",
        "<b>Use the function \"train_test_split\" to split up the dataset such that 40% of the data samples will be utilized for testing. Set the parameter \"random_state\" equal to zero. The output of the function should be the following:  \"x_train1\" , \"x_test1\", \"y_train1\" and  \"y_test1\".</b>\n",
        "\n",
        "</div>\n"
      ]
    },
    {
      "cell_type": "code",
      "execution_count": 126,
      "metadata": {
        "id": "TOgv0r1Z0WfZ"
      },
      "outputs": [],
      "source": [
        "# Write your code below and press Shift+Enter to execute \n",
        "x_train1, x_test1, y_train1, y_test1 = train_test_split(x_data, y_data, test_size=0.4, random_state=0)"
      ]
    },
    {
      "cell_type": "markdown",
      "metadata": {
        "id": "l4POtB1B0WfZ"
      },
      "source": [
        "<details><summary>Click here for the solution</summary>\n",
        "\n",
        "```python\n",
        "x_train1, x_test1, y_train1, y_test1 = train_test_split(x_data, y_data, test_size=0.4, random_state=0) \n",
        "print(\"number of test samples :\", x_test1.shape[0])\n",
        "print(\"number of training samples:\",x_train1.shape[0])\n",
        "```\n",
        "\n",
        "</details>\n"
      ]
    },
    {
      "cell_type": "markdown",
      "metadata": {
        "id": "vOueUAvF0WfZ"
      },
      "source": [
        "Let's import <b>LinearRegression</b> from the module <b>linear_model</b>.\n"
      ]
    },
    {
      "cell_type": "code",
      "execution_count": 127,
      "metadata": {
        "id": "s4T2pja00WfZ"
      },
      "outputs": [],
      "source": [
        "from sklearn.linear_model import LinearRegression"
      ]
    },
    {
      "cell_type": "markdown",
      "metadata": {
        "id": "c2ZreHu80Wfa"
      },
      "source": [
        "We create a Linear Regression object:\n"
      ]
    },
    {
      "cell_type": "code",
      "execution_count": 128,
      "metadata": {
        "id": "-Y3hqt-E0Wfa"
      },
      "outputs": [],
      "source": [
        "lre=LinearRegression()"
      ]
    },
    {
      "cell_type": "markdown",
      "metadata": {
        "id": "XpCtRXQD0Wfa"
      },
      "source": [
        "We fit the model using the feature \"horsepower\":\n"
      ]
    },
    {
      "cell_type": "code",
      "execution_count": 129,
      "metadata": {
        "colab": {
          "base_uri": "https://localhost:8080/"
        },
        "id": "U3SEIyeQ0Wfa",
        "outputId": "edcdcbf0-a0fb-4ea4-a42c-ceef57635d53"
      },
      "outputs": [
        {
          "output_type": "execute_result",
          "data": {
            "text/plain": [
              "LinearRegression()"
            ]
          },
          "metadata": {},
          "execution_count": 129
        }
      ],
      "source": [
        "lre.fit(x_train[['horsepower']], y_train)"
      ]
    },
    {
      "cell_type": "markdown",
      "metadata": {
        "id": "ZUwio-dm0Wfa"
      },
      "source": [
        "Let's calculate the R^2 on the test data:\n"
      ]
    },
    {
      "cell_type": "code",
      "execution_count": 130,
      "metadata": {
        "colab": {
          "base_uri": "https://localhost:8080/"
        },
        "id": "egC4dIGO0Wfa",
        "outputId": "107b8860-0da3-49af-bc55-2898651ea0d8"
      },
      "outputs": [
        {
          "output_type": "execute_result",
          "data": {
            "text/plain": [
              "0.36358755750788263"
            ]
          },
          "metadata": {},
          "execution_count": 130
        }
      ],
      "source": [
        "lre.score(x_test[['horsepower']], y_test)"
      ]
    },
    {
      "cell_type": "markdown",
      "metadata": {
        "id": "7NyLhlyi0Wfb"
      },
      "source": [
        "We can see the R^2 is much smaller using the test data compared to the training data.\n"
      ]
    },
    {
      "cell_type": "code",
      "execution_count": 131,
      "metadata": {
        "colab": {
          "base_uri": "https://localhost:8080/"
        },
        "id": "s3Fzr5Rx0Wfb",
        "outputId": "48074346-0c95-45e5-95ed-8633b61e433d"
      },
      "outputs": [
        {
          "output_type": "execute_result",
          "data": {
            "text/plain": [
              "0.6619724197515104"
            ]
          },
          "metadata": {},
          "execution_count": 131
        }
      ],
      "source": [
        "lre.score(x_train[['horsepower']], y_train)"
      ]
    },
    {
      "cell_type": "markdown",
      "metadata": {
        "id": "WF36CTN10Wfb"
      },
      "source": [
        "<div class=\"alert alert-danger alertdanger\" style=\"margin-top: 20px\">\n",
        "<h1> Question  #2): </h1>\n",
        "<b> \n",
        "Find the R^2  on the test data using 40% of the dataset for testing.\n",
        "</b>\n",
        "</div>\n"
      ]
    },
    {
      "cell_type": "code",
      "execution_count": 132,
      "metadata": {
        "colab": {
          "base_uri": "https://localhost:8080/"
        },
        "id": "vKEGqg3u0Wfb",
        "outputId": "c744d5cb-5a30-4e88-e5b6-d73443c7c283"
      },
      "outputs": [
        {
          "output_type": "execute_result",
          "data": {
            "text/plain": [
              "0.7139364665406973"
            ]
          },
          "metadata": {},
          "execution_count": 132
        }
      ],
      "source": [
        "# Write your code below and press Shift+Enter to execute \n",
        "lre.fit(x_train1[['horsepower']], y_train1)\n",
        "lre.score(x_test1[['horsepower']], y_test1)\n"
      ]
    },
    {
      "cell_type": "markdown",
      "metadata": {
        "id": "Gol168j90Wfc"
      },
      "source": [
        "<details><summary>Click here for the solution</summary>\n",
        "\n",
        "```python\n",
        "x_train1, x_test1, y_train1, y_test1 = train_test_split(x_data, y_data, test_size=0.4, random_state=0)\n",
        "lre.fit(x_train1[['horsepower']],y_train1)\n",
        "lre.score(x_test1[['horsepower']],y_test1)\n",
        "\n",
        "```\n",
        "\n",
        "</details>\n"
      ]
    },
    {
      "cell_type": "markdown",
      "metadata": {
        "id": "h2fOlq9_0Wfc"
      },
      "source": [
        "Sometimes you do not have sufficient testing data; as a result, you may want to perform cross-validation. Let's go over several methods that you can use for cross-validation.\n"
      ]
    },
    {
      "cell_type": "markdown",
      "metadata": {
        "id": "JIWl7sg60Wfd"
      },
      "source": [
        "<h2>Cross-Validation Score</h2>\n"
      ]
    },
    {
      "cell_type": "markdown",
      "metadata": {
        "id": "Dg_HF9iX0Wfd"
      },
      "source": [
        "Let's import <b>cross_val_score</b> from the module <b>model_selection</b>.\n"
      ]
    },
    {
      "cell_type": "code",
      "execution_count": 133,
      "metadata": {
        "id": "Sr7WDxnV0Wfd"
      },
      "outputs": [],
      "source": [
        "from sklearn.model_selection import cross_val_score"
      ]
    },
    {
      "cell_type": "markdown",
      "metadata": {
        "id": "4e98hrMJ0Wfd"
      },
      "source": [
        "We input the object, the feature (\"horsepower\"), and the target data (y_data). The parameter 'cv' determines the number of folds. In this case, it is 4.\n"
      ]
    },
    {
      "cell_type": "code",
      "execution_count": 134,
      "metadata": {
        "id": "oo0EeOYu0Wfd"
      },
      "outputs": [],
      "source": [
        "Rcross = cross_val_score(lre, x_data[['horsepower']], y_data, cv=4)"
      ]
    },
    {
      "cell_type": "markdown",
      "metadata": {
        "id": "8vcRXvKL0Wfd"
      },
      "source": [
        "The default scoring is R^2. Each element in the array has the average R^2 value for the fold:\n"
      ]
    },
    {
      "cell_type": "code",
      "execution_count": 135,
      "metadata": {
        "colab": {
          "base_uri": "https://localhost:8080/"
        },
        "id": "KQuQpu1e0Wfe",
        "outputId": "615e8ef0-a21e-41d7-ad13-7a0db1af5360"
      },
      "outputs": [
        {
          "output_type": "execute_result",
          "data": {
            "text/plain": [
              "array([0.7746232 , 0.51716687, 0.74785353, 0.04839605])"
            ]
          },
          "metadata": {},
          "execution_count": 135
        }
      ],
      "source": [
        "Rcross"
      ]
    },
    {
      "cell_type": "markdown",
      "metadata": {
        "id": "4XKYNEX70Wfe"
      },
      "source": [
        "We can calculate the average and standard deviation of our estimate:\n"
      ]
    },
    {
      "cell_type": "code",
      "execution_count": 136,
      "metadata": {
        "colab": {
          "base_uri": "https://localhost:8080/"
        },
        "id": "kOUK9Abf0Wfe",
        "outputId": "9cc02a3d-0152-4847-e161-aaa75952f86d"
      },
      "outputs": [
        {
          "output_type": "stream",
          "name": "stdout",
          "text": [
            "The mean of the folds are 0.522009915042119 and the standard deviation is 0.291183944475603\n"
          ]
        }
      ],
      "source": [
        "print(\"The mean of the folds are\", Rcross.mean(), \"and the standard deviation is\" , Rcross.std())"
      ]
    },
    {
      "cell_type": "markdown",
      "metadata": {
        "id": "QrGnPfHK0Wfe"
      },
      "source": [
        "We can use negative squared error as a score by setting the parameter  'scoring' metric to 'neg_mean_squared_error'.\n"
      ]
    },
    {
      "cell_type": "code",
      "execution_count": 137,
      "metadata": {
        "colab": {
          "base_uri": "https://localhost:8080/"
        },
        "id": "rOoD8t_u0Wff",
        "outputId": "d203a9a9-b372-426d-85e7-75f54bd75778"
      },
      "outputs": [
        {
          "output_type": "execute_result",
          "data": {
            "text/plain": [
              "array([20254142.84026702, 43745493.2650517 , 12539630.34014931,\n",
              "       17561927.72247591])"
            ]
          },
          "metadata": {},
          "execution_count": 137
        }
      ],
      "source": [
        "-1 * cross_val_score(lre,x_data[['horsepower']], y_data,cv=4,scoring='neg_mean_squared_error')"
      ]
    },
    {
      "cell_type": "markdown",
      "metadata": {
        "id": "d-SBnxqZ0Wff"
      },
      "source": [
        "<div class=\"alert alert-danger alertdanger\" style=\"margin-top: 20px\">\n",
        "<h1> Question  #3): </h1>\n",
        "<b> \n",
        "Calculate the average R^2 using two folds, then find the average R^2 for the second fold utilizing the \"horsepower\" feature: \n",
        "</b>\n",
        "</div>\n"
      ]
    },
    {
      "cell_type": "code",
      "execution_count": 138,
      "metadata": {
        "colab": {
          "base_uri": "https://localhost:8080/"
        },
        "id": "R3MVF8Lh0Wff",
        "outputId": "769826f5-1393-4b0d-97d8-189bf5fff5f4"
      },
      "outputs": [
        {
          "output_type": "stream",
          "name": "stdout",
          "text": [
            "0.5166761697127429\n",
            "0.07348004195771385\n",
            "0.44319612775502903\n"
          ]
        }
      ],
      "source": [
        "# Write your code below and press Shift+Enter to execute \n",
        "r_cross1 = cross_val_score(lre, x_data[['horsepower']], y_data, cv=2)\n",
        "print(r_cross1.mean())\n",
        "print(r_cross1.std())\n",
        "print(r_cross1[1])"
      ]
    },
    {
      "cell_type": "markdown",
      "metadata": {
        "id": "KKtI2CDm0Wff"
      },
      "source": [
        "<details><summary>Click here for the solution</summary>\n",
        "\n",
        "```python\n",
        "Rc=cross_val_score(lre,x_data[['horsepower']], y_data,cv=2)\n",
        "Rc.mean()\n",
        "\n",
        "```\n",
        "\n",
        "</details>\n"
      ]
    },
    {
      "cell_type": "markdown",
      "metadata": {
        "id": "vRnV1x5z0Wfg"
      },
      "source": [
        "You can also use the function 'cross_val_predict' to predict the output. The function splits up the data into the specified number of folds, with one fold for testing and the other folds are used for training. First, import the function:\n"
      ]
    },
    {
      "cell_type": "code",
      "execution_count": 139,
      "metadata": {
        "id": "PnxpQQwF0Wfg"
      },
      "outputs": [],
      "source": [
        "from sklearn.model_selection import cross_val_predict"
      ]
    },
    {
      "cell_type": "markdown",
      "metadata": {
        "id": "RoNuFHFI0Wfg"
      },
      "source": [
        "We input the object, the feature <b>\"horsepower\"</b>, and the target data <b>y_data</b>. The parameter 'cv' determines the number of folds. In this case, it is 4. We can produce an output:\n"
      ]
    },
    {
      "cell_type": "code",
      "execution_count": 140,
      "metadata": {
        "colab": {
          "base_uri": "https://localhost:8080/"
        },
        "id": "LPg9tKz30Wfg",
        "outputId": "1448bc64-a395-4bd7-ce9e-a069cb83c724"
      },
      "outputs": [
        {
          "output_type": "stream",
          "name": "stdout",
          "text": [
            "[14141.63807508 14141.63807508 20814.29423473 12745.03562306\n",
            " 14762.35027598]\n",
            "0    13495.0\n",
            "1    16500.0\n",
            "2    16500.0\n",
            "3    13950.0\n",
            "4    17450.0\n",
            "Name: price, dtype: float64\n"
          ]
        }
      ],
      "source": [
        "yhat = cross_val_predict(lre,x_data[['horsepower']], y_data,cv=4)\n",
        "print(yhat[0:5])\n",
        "print(y_data[0:5])"
      ]
    },
    {
      "cell_type": "markdown",
      "metadata": {
        "id": "KusMkSD-0Wfg"
      },
      "source": [
        "<h2 id=\"ref2\">Part 2: Overfitting, Underfitting and Model Selection</h2>\n",
        "\n",
        "<p>It turns out that the test data, sometimes referred to as the \"out of sample data\", is a much better measure of how well your model performs in the real world.  One reason for this is overfitting.\n",
        "\n",
        "Let's go over some examples. It turns out these differences are more apparent in Multiple Linear Regression and Polynomial Regression so we will explore overfitting in that context.</p>\n"
      ]
    },
    {
      "cell_type": "markdown",
      "metadata": {
        "id": "vj4poNW80Wfh"
      },
      "source": [
        "Let's create Multiple Linear Regression objects and train the model using <b>'horsepower'</b>, <b>'curb-weight'</b>, <b>'engine-size'</b> and <b>'highway-mpg'</b> as features.\n"
      ]
    },
    {
      "cell_type": "code",
      "execution_count": 141,
      "metadata": {
        "colab": {
          "base_uri": "https://localhost:8080/"
        },
        "id": "Tep7470b0Wfh",
        "outputId": "8d75f97a-28c3-4dc6-fd30-c8b3373b27ae"
      },
      "outputs": [
        {
          "output_type": "execute_result",
          "data": {
            "text/plain": [
              "LinearRegression()"
            ]
          },
          "metadata": {},
          "execution_count": 141
        }
      ],
      "source": [
        "lr = LinearRegression()\n",
        "lr.fit(x_train[['horsepower', 'curb-weight', 'engine-size', 'highway-mpg']], y_train)"
      ]
    },
    {
      "cell_type": "markdown",
      "metadata": {
        "id": "ZHEDO1KM0Wfh"
      },
      "source": [
        "Prediction using training data:\n"
      ]
    },
    {
      "cell_type": "code",
      "execution_count": 142,
      "metadata": {
        "colab": {
          "base_uri": "https://localhost:8080/"
        },
        "id": "apfKKWzh0Wfh",
        "outputId": "b107f815-aaad-46c1-beae-071d8a79acc1"
      },
      "outputs": [
        {
          "output_type": "execute_result",
          "data": {
            "text/plain": [
              "array([ 7426.6731551 , 28323.75090803, 14213.38819709,  4052.34146983,\n",
              "       34500.19124244])"
            ]
          },
          "metadata": {},
          "execution_count": 142
        }
      ],
      "source": [
        "yhat_train = lr.predict(x_train[['horsepower', 'curb-weight', 'engine-size', 'highway-mpg']])\n",
        "yhat_train[0:5]"
      ]
    },
    {
      "cell_type": "markdown",
      "metadata": {
        "id": "AZXrUB3-0Wfh"
      },
      "source": [
        "Prediction using test data:\n"
      ]
    },
    {
      "cell_type": "code",
      "execution_count": 143,
      "metadata": {
        "colab": {
          "base_uri": "https://localhost:8080/"
        },
        "id": "LbEi63480Wfi",
        "outputId": "ba11d0be-50c1-4783-e665-3e3a6a47e773"
      },
      "outputs": [
        {
          "output_type": "execute_result",
          "data": {
            "text/plain": [
              "array([11349.35089149,  5884.11059106, 11208.6928275 ,  6641.07786278,\n",
              "       15565.79920282])"
            ]
          },
          "metadata": {},
          "execution_count": 143
        }
      ],
      "source": [
        "yhat_test = lr.predict(x_test[['horsepower', 'curb-weight', 'engine-size', 'highway-mpg']])\n",
        "yhat_test[0:5]"
      ]
    },
    {
      "cell_type": "markdown",
      "metadata": {
        "id": "rEuDn8Br0Wfi"
      },
      "source": [
        "Let's perform some model evaluation using our training and testing data separately. First, we import the seaborn and matplotlib library for plotting.\n"
      ]
    },
    {
      "cell_type": "code",
      "execution_count": 144,
      "metadata": {
        "id": "8xdGYwqv0Wfi"
      },
      "outputs": [],
      "source": [
        "import matplotlib.pyplot as plt\n",
        "%matplotlib inline\n",
        "import seaborn as sns"
      ]
    },
    {
      "cell_type": "markdown",
      "metadata": {
        "id": "L4TIY5LB0Wfi"
      },
      "source": [
        "Let's examine the distribution of the predicted values of the training data.\n"
      ]
    },
    {
      "cell_type": "code",
      "execution_count": 145,
      "metadata": {
        "colab": {
          "base_uri": "https://localhost:8080/",
          "height": 710
        },
        "id": "lMnXH_yT0Wfi",
        "outputId": "d8792689-605d-47d6-86bf-7103ae06b9a8"
      },
      "outputs": [
        {
          "output_type": "stream",
          "name": "stderr",
          "text": [
            "/usr/local/lib/python3.7/dist-packages/seaborn/distributions.py:2619: FutureWarning: `distplot` is a deprecated function and will be removed in a future version. Please adapt your code to use either `displot` (a figure-level function with similar flexibility) or `kdeplot` (an axes-level function for kernel density plots).\n",
            "  warnings.warn(msg, FutureWarning)\n",
            "/usr/local/lib/python3.7/dist-packages/seaborn/distributions.py:2619: FutureWarning: `distplot` is a deprecated function and will be removed in a future version. Please adapt your code to use either `displot` (a figure-level function with similar flexibility) or `kdeplot` (an axes-level function for kernel density plots).\n",
            "  warnings.warn(msg, FutureWarning)\n"
          ]
        },
        {
          "output_type": "display_data",
          "data": {
            "text/plain": [
              "<Figure size 864x720 with 1 Axes>"
            ],
            "image/png": "[encoded data removed]"
          },
          "metadata": {
            "needs_background": "light"
          }
        }
      ],
      "source": [
        "Title = 'Distribution  Plot of  Predicted Value Using Training Data vs Training Data Distribution'\n",
        "distribution_plot(y_train, yhat_train, \"Actual Values (Train)\", \"Predicted Values (Train)\", Title)"
      ]
    },
    {
      "cell_type": "markdown",
      "metadata": {
        "id": "wE_IiwAy0Wfj"
      },
      "source": [
        "Figure 1: Plot of predicted values using the training data compared to the actual values of the training data.\n"
      ]
    },
    {
      "cell_type": "markdown",
      "metadata": {
        "id": "yg1PpC150Wfj"
      },
      "source": [
        "So far, the model seems to be doing well in learning from the training dataset. But what happens when the model encounters new data from the testing dataset? When the model generates new values from the test data, we see the distribution of the predicted values is much different from the actual target values.\n"
      ]
    },
    {
      "cell_type": "code",
      "execution_count": 146,
      "metadata": {
        "colab": {
          "base_uri": "https://localhost:8080/",
          "height": 710
        },
        "id": "oYnsJSf70Wfj",
        "outputId": "37307bb6-c0e7-445a-e73a-ee9f4d759613"
      },
      "outputs": [
        {
          "output_type": "stream",
          "name": "stderr",
          "text": [
            "/usr/local/lib/python3.7/dist-packages/seaborn/distributions.py:2619: FutureWarning: `distplot` is a deprecated function and will be removed in a future version. Please adapt your code to use either `displot` (a figure-level function with similar flexibility) or `kdeplot` (an axes-level function for kernel density plots).\n",
            "  warnings.warn(msg, FutureWarning)\n",
            "/usr/local/lib/python3.7/dist-packages/seaborn/distributions.py:2619: FutureWarning: `distplot` is a deprecated function and will be removed in a future version. Please adapt your code to use either `displot` (a figure-level function with similar flexibility) or `kdeplot` (an axes-level function for kernel density plots).\n",
            "  warnings.warn(msg, FutureWarning)\n"
          ]
        },
        {
          "output_type": "display_data",
          "data": {
            "text/plain": [
              "<Figure size 864x720 with 1 Axes>"
            ],
            "image/png": "[encoded data removed]"
          },
          "metadata": {
            "needs_background": "light"
          }
        }
      ],
      "source": [
        "Title='Distribution  Plot of  Predicted Value Using Test Data vs Data Distribution of Test Data'\n",
        "distribution_plot(y_test,yhat_test,\"Actual Values (Test)\",\"Predicted Values (Test)\",Title)"
      ]
    },
    {
      "cell_type": "markdown",
      "metadata": {
        "id": "qO1wPJ_90Wfj"
      },
      "source": [
        "Figure 2: Plot of predicted value using the test data compared to the actual values of the test data.\n"
      ]
    },
    {
      "cell_type": "markdown",
      "metadata": {
        "id": "5PoOC5Ud0Wfj"
      },
      "source": [
        "<p>Comparing Figure 1 and Figure 2, it is evident that the distribution of the test data in Figure 1 is much better at fitting the data. This difference in Figure 2 is apparent in the range of 5000 to 15,000. This is where the shape of the distribution is extremely different. Let's see if polynomial regression also exhibits a drop in the prediction accuracy when analysing the test dataset.</p>\n"
      ]
    },
    {
      "cell_type": "code",
      "execution_count": 147,
      "metadata": {
        "id": "RgKUS_330Wfk"
      },
      "outputs": [],
      "source": [
        "from sklearn.preprocessing import PolynomialFeatures"
      ]
    },
    {
      "cell_type": "markdown",
      "metadata": {
        "id": "M1Ipg2Fy0Wfk"
      },
      "source": [
        "<h4>Overfitting</h4>\n",
        "<p>Overfitting occurs when the model fits the noise, but not the underlying process. Therefore, when testing your model using the test set, your model does not perform as well since it is modelling noise, not the underlying process that generated the relationship. Let's create a degree 5 polynomial model.</p>\n"
      ]
    },
    {
      "cell_type": "markdown",
      "metadata": {
        "id": "oK8BKkvf0Wfk"
      },
      "source": [
        "Let's use 55 percent of the data for training and the rest for testing:\n"
      ]
    },
    {
      "cell_type": "code",
      "execution_count": 148,
      "metadata": {
        "id": "0CyPHyRD0Wfk"
      },
      "outputs": [],
      "source": [
        "x_train, x_test, y_train, y_test = train_test_split(x_data, y_data, test_size=0.45, random_state=0)"
      ]
    },
    {
      "cell_type": "markdown",
      "metadata": {
        "id": "7XxeZe330Wfk"
      },
      "source": [
        "We will perform a degree 5 polynomial transformation on the feature <b>'horsepower'</b>.\n"
      ]
    },
    {
      "cell_type": "code",
      "execution_count": 149,
      "metadata": {
        "colab": {
          "base_uri": "https://localhost:8080/"
        },
        "id": "gmM0Ww4W0Wfk",
        "outputId": "1ec8c1ec-3d8d-4525-c078-4d8c8e39a04a"
      },
      "outputs": [
        {
          "output_type": "execute_result",
          "data": {
            "text/plain": [
              "PolynomialFeatures(degree=5)"
            ]
          },
          "metadata": {},
          "execution_count": 149
        }
      ],
      "source": [
        "pr = PolynomialFeatures(degree=5)\n",
        "x_train_pr = pr.fit_transform(x_train[['horsepower']])\n",
        "x_test_pr = pr.fit_transform(x_test[['horsepower']])\n",
        "pr"
      ]
    },
    {
      "cell_type": "markdown",
      "metadata": {
        "id": "H7g15fwN0Wfl"
      },
      "source": [
        "Now, let's create a Linear Regression model \"poly\" and train it.\n"
      ]
    },
    {
      "cell_type": "code",
      "execution_count": 150,
      "metadata": {
        "colab": {
          "base_uri": "https://localhost:8080/"
        },
        "id": "45iPKU2J0Wfl",
        "outputId": "7d72d290-ced5-4e22-b223-deb09565c179"
      },
      "outputs": [
        {
          "output_type": "execute_result",
          "data": {
            "text/plain": [
              "LinearRegression()"
            ]
          },
          "metadata": {},
          "execution_count": 150
        }
      ],
      "source": [
        "poly = LinearRegression()\n",
        "poly.fit(x_train_pr, y_train)"
      ]
    },
    {
      "cell_type": "markdown",
      "metadata": {
        "id": "FLLqSi0X0Wfl"
      },
      "source": [
        "We can see the output of our model using the method \"predict.\" We assign the values to \"yhat\".\n"
      ]
    },
    {
      "cell_type": "code",
      "execution_count": 151,
      "metadata": {
        "colab": {
          "base_uri": "https://localhost:8080/"
        },
        "id": "UKbrHJ_-0Wfl",
        "outputId": "089d02f2-6c8d-4c8f-ba64-6669aba5ebd8"
      },
      "outputs": [
        {
          "output_type": "execute_result",
          "data": {
            "text/plain": [
              "array([ 6728.65561887,  7307.98782321, 12213.78770965, 18893.24804015,\n",
              "       19995.95195136])"
            ]
          },
          "metadata": {},
          "execution_count": 151
        }
      ],
      "source": [
        "yhat = poly.predict(x_test_pr)\n",
        "yhat[0:5]"
      ]
    },
    {
      "cell_type": "markdown",
      "metadata": {
        "id": "b6cHEthV0Wfl"
      },
      "source": [
        "Let's take the first five predicted values and compare it to the actual targets.\n"
      ]
    },
    {
      "cell_type": "code",
      "execution_count": 152,
      "metadata": {
        "colab": {
          "base_uri": "https://localhost:8080/"
        },
        "id": "QWB18dzs0Wfm",
        "outputId": "00323774-1adb-4acc-a0ba-81e961b5fdf1"
      },
      "outputs": [
        {
          "output_type": "stream",
          "name": "stdout",
          "text": [
            "Predicted values: [ 6728.65561887  7307.98782321 12213.78770965 18893.24804015]\n",
            "True values: [ 6295. 10698. 13860. 13499.]\n"
          ]
        }
      ],
      "source": [
        "print(\"Predicted values:\", yhat[0:4])\n",
        "print(\"True values:\", y_test[0:4].values)"
      ]
    },
    {
      "cell_type": "markdown",
      "metadata": {
        "id": "uHGGrE5N0Wfm"
      },
      "source": [
        "We will use the function \"PollyPlot\" that we defined at the beginning of the lab to display the training data, testing data, and the predicted function.\n"
      ]
    },
    {
      "cell_type": "code",
      "execution_count": 153,
      "metadata": {
        "colab": {
          "base_uri": "https://localhost:8080/",
          "height": 595
        },
        "id": "wkO2vyt00Wfm",
        "outputId": "29e72e4d-efad-46b3-f585-7373de19888b"
      },
      "outputs": [
        {
          "output_type": "display_data",
          "data": {
            "text/plain": [
              "<Figure size 864x720 with 1 Axes>"
            ],
            "image/png": "[encoded data removed]"
          },
          "metadata": {
            "needs_background": "light"
          }
        }
      ],
      "source": [
        "poly_plot(x_train[['horsepower']], x_test[['horsepower']], y_train, y_test, poly,pr)"
      ]
    },
    {
      "cell_type": "markdown",
      "metadata": {
        "id": "FlxImjtF0Wfm"
      },
      "source": [
        "Figure 3: A polynomial regression model where red dots represent training data, green dots represent test data, and the blue line represents the model prediction.\n"
      ]
    },
    {
      "cell_type": "markdown",
      "metadata": {
        "id": "nm9jciIm0Wfm"
      },
      "source": [
        "We see that the estimated function appears to track the data but around 200 horsepower, the function begins to diverge from the data points.\n"
      ]
    },
    {
      "cell_type": "markdown",
      "metadata": {
        "id": "kRet13aF0Wfm"
      },
      "source": [
        "R^2 of the training data:\n"
      ]
    },
    {
      "cell_type": "code",
      "execution_count": 154,
      "metadata": {
        "colab": {
          "base_uri": "https://localhost:8080/"
        },
        "id": "CBGUBXe10Wfn",
        "outputId": "26c091fe-0c29-4b35-c72e-3e15f390567a"
      },
      "outputs": [
        {
          "output_type": "execute_result",
          "data": {
            "text/plain": [
              "0.556771690212023"
            ]
          },
          "metadata": {},
          "execution_count": 154
        }
      ],
      "source": [
        "poly.score(x_train_pr, y_train)"
      ]
    },
    {
      "cell_type": "markdown",
      "metadata": {
        "id": "d_8Vnekk0Wfn"
      },
      "source": [
        "R^2 of the test data:\n"
      ]
    },
    {
      "cell_type": "code",
      "execution_count": 155,
      "metadata": {
        "colab": {
          "base_uri": "https://localhost:8080/"
        },
        "id": "Y2jdBpF20Wfn",
        "outputId": "8a1db77a-e0de-4021-a104-9f5bcce8e438"
      },
      "outputs": [
        {
          "output_type": "execute_result",
          "data": {
            "text/plain": [
              "-29.87134030204415"
            ]
          },
          "metadata": {},
          "execution_count": 155
        }
      ],
      "source": [
        "poly.score(x_test_pr, y_test)"
      ]
    },
    {
      "cell_type": "markdown",
      "metadata": {
        "id": "OdMR5lIJ0Wfn"
      },
      "source": [
        "We see the R^2 for the training data is 0.5567 while the R^2 on the test data was -29.87.  The lower the R^2, the worse the model. A negative R^2 is a sign of overfitting.\n"
      ]
    },
    {
      "cell_type": "markdown",
      "metadata": {
        "id": "R615kDR80Wfn"
      },
      "source": [
        "Let's see how the R^2 changes on the test data for different order polynomials and then plot the results:\n"
      ]
    },
    {
      "cell_type": "code",
      "execution_count": 156,
      "metadata": {
        "colab": {
          "base_uri": "https://localhost:8080/",
          "height": 312
        },
        "id": "PkZnTD120Wfn",
        "outputId": "76bbba8f-db36-45d5-b049-301f223c6c4b"
      },
      "outputs": [
        {
          "output_type": "execute_result",
          "data": {
            "text/plain": [
              "Text(3, 0.75, 'Maximum R^2 ')"
            ]
          },
          "metadata": {},
          "execution_count": 156
        },
        {
          "output_type": "display_data",
          "data": {
            "text/plain": [
              "<Figure size 432x288 with 1 Axes>"
            ],
            "image/png": "[encoded data removed]"
          },
          "metadata": {
            "needs_background": "light"
          }
        }
      ],
      "source": [
        "Rsqu_test = []\n",
        "\n",
        "order = [1, 2, 3, 4]\n",
        "for n in order:\n",
        "    pr = PolynomialFeatures(degree=n)\n",
        "    \n",
        "    x_train_pr = pr.fit_transform(x_train[['horsepower']])\n",
        "    \n",
        "    x_test_pr = pr.fit_transform(x_test[['horsepower']])    \n",
        "    \n",
        "    lr.fit(x_train_pr, y_train)\n",
        "    \n",
        "    Rsqu_test.append(lr.score(x_test_pr, y_test))\n",
        "\n",
        "plt.plot(order, Rsqu_test)\n",
        "plt.xlabel('order')\n",
        "plt.ylabel('R^2')\n",
        "plt.title('R^2 Using Test Data')\n",
        "plt.text(3, 0.75, 'Maximum R^2 ')    "
      ]
    },
    {
      "cell_type": "markdown",
      "metadata": {
        "id": "vFcbK8b30Wfo"
      },
      "source": [
        "We see the R^2 gradually increases until an order three polynomial is used. Then, the R^2 dramatically decreases at an order four polynomial.\n"
      ]
    },
    {
      "cell_type": "markdown",
      "metadata": {
        "id": "UsMRzaAd0Wfo"
      },
      "source": [
        "The following function will be used in the next section. Please run the cell below.\n"
      ]
    },
    {
      "cell_type": "code",
      "execution_count": 157,
      "metadata": {
        "id": "HTH0p7Op0Wfo"
      },
      "outputs": [],
      "source": [
        "def f(order, test_data_size):\n",
        "    x_train, x_test, y_train, y_test = train_test_split(x_data, y_data, test_size=test_data_size, random_state=0)\n",
        "    pr = PolynomialFeatures(degree=order)\n",
        "    x_train_pr = pr.fit_transform(x_train[['horsepower']])\n",
        "    x_test_pr = pr.fit_transform(x_test[['horsepower']])\n",
        "    poly = LinearRegression()\n",
        "    poly.fit(x_train_pr,y_train)\n",
        "    poly_plot(x_train[['horsepower']], x_test[['horsepower']], y_train,y_test, poly, pr)"
      ]
    },
    {
      "cell_type": "markdown",
      "metadata": {
        "id": "xGFF7vS90Wfo"
      },
      "source": [
        "The following interface allows you to experiment with different polynomial orders and different amounts of data.\n"
      ]
    },
    {
      "cell_type": "code",
      "execution_count": 158,
      "metadata": {
        "colab": {
          "base_uri": "https://localhost:8080/",
          "height": 676,
          "referenced_widgets": [
            "075706bfc9464f6d9f5b951c9d804629",
            "716f229fc552452ba7fb74242ab41d1e",
            "ff47268cc5924f2f956081a8c4db9b07",
            "46cd2a7b22ec492eab1edce9810e09b5",
            "493fd6072f21473e92a4f7ebc81fb8bf",
            "2a431f0ba01c4b1b81007184bb4fc625",
            "dfd4d5be393f4ee59cadb25871af102e",
            "2082ca0449d8442da9ca1cc81df95850",
            "12475f340ebf4903b6518525e63ed09e",
            "6b2922b23f9a4f70873858499d395620"
          ]
        },
        "id": "qLHgZAW50Wfp",
        "outputId": "60e1f646-c81f-4a46-decc-7a2ae4447c46"
      },
      "outputs": [
        {
          "output_type": "display_data",
          "data": {
            "text/plain": [
              "interactive(children=(IntSlider(value=3, description='order', max=6), FloatSlider(value=0.45, description='tes…"
            ],
            "application/vnd.jupyter.widget-view+json": {
              "version_major": 2,
              "version_minor": 0,
              "model_id": "075706bfc9464f6d9f5b951c9d804629"
            }
          },
          "metadata": {}
        },
        {
          "output_type": "execute_result",
          "data": {
            "text/plain": [
              "<function __main__.f>"
            ]
          },
          "metadata": {},
          "execution_count": 158
        }
      ],
      "source": [
        "interact(f, order=(0, 6, 1), test_data_size=(0.05, 0.95, 0.05))"
      ]
    },
    {
      "cell_type": "markdown",
      "metadata": {
        "id": "M-9h1UqQ0Wfp"
      },
      "source": [
        "<div class=\"alert alert-danger alertdanger\" style=\"margin-top: 20px\">\n",
        "<h1> Question  #4a):</h1>\n",
        "\n",
        "<b>We can perform polynomial transformations with more than one feature. Create a \"PolynomialFeatures\" object \"pr1\" of degree two.</b>\n",
        "\n",
        "</div>\n"
      ]
    },
    {
      "cell_type": "code",
      "execution_count": 159,
      "metadata": {
        "id": "0WJt6pgS0Wfp"
      },
      "outputs": [],
      "source": [
        "# Write your code below and press Shift+Enter to execute \n",
        "pr1 = PolynomialFeatures(degree=2)"
      ]
    },
    {
      "cell_type": "markdown",
      "metadata": {
        "id": "78N10VRO0Wfp"
      },
      "source": [
        "<details><summary>Click here for the solution</summary>\n",
        "\n",
        "```python\n",
        "pr1=PolynomialFeatures(degree=2)\n",
        "\n",
        "```\n",
        "\n",
        "</details>\n"
      ]
    },
    {
      "cell_type": "markdown",
      "metadata": {
        "id": "81Q_00fs0Wfp"
      },
      "source": [
        "<div class=\"alert alert-danger alertdanger\" style=\"margin-top: 20px\">\n",
        "<h1> Question  #4b): </h1>\n",
        "\n",
        "<b> \n",
        " Transform the training and testing samples for the features 'horsepower', 'curb-weight', 'engine-size' and 'highway-mpg'. Hint: use the method \"fit_transform\".</b>\n",
        "</div>\n"
      ]
    },
    {
      "cell_type": "code",
      "execution_count": 160,
      "metadata": {
        "id": "cmnkpMKv0Wfq"
      },
      "outputs": [],
      "source": [
        "# Write your code below and press Shift+Enter to execute \n",
        "x_train_pr1 = pr1.fit_transform(x_train[['horsepower', 'curb-weight', 'engine-size', 'highway-mpg']])\n",
        "x_test_pr1 = pr1.fit_transform(x_test[['horsepower', 'curb-weight', 'engine-size', 'highway-mpg']])"
      ]
    },
    {
      "cell_type": "markdown",
      "metadata": {
        "id": "noN5-fy_0Wfq"
      },
      "source": [
        "<details><summary>Click here for the solution</summary>\n",
        "\n",
        "```python\n",
        "x_train_pr1=pr1.fit_transform(x_train[['horsepower', 'curb-weight', 'engine-size', 'highway-mpg']])\n",
        "\n",
        "x_test_pr1=pr1.fit_transform(x_test[['horsepower', 'curb-weight', 'engine-size', 'highway-mpg']])\n",
        "\n",
        "\n",
        "```\n",
        "\n",
        "</details>\n"
      ]
    },
    {
      "cell_type": "markdown",
      "metadata": {
        "id": "pIFeTJPd0Wfq"
      },
      "source": [
        "<!-- The answer is below:\n",
        "\n",
        "x_train_pr1=pr.fit_transform(x_train[['horsepower', 'curb-weight', 'engine-size', 'highway-mpg']])\n",
        "x_test_pr1=pr.fit_transform(x_test[['horsepower', 'curb-weight', 'engine-size', 'highway-mpg']])\n",
        "\n",
        "-->\n"
      ]
    },
    {
      "cell_type": "markdown",
      "metadata": {
        "id": "L4H8Gb790Wfq"
      },
      "source": [
        "<div class=\"alert alert-danger alertdanger\" style=\"margin-top: 20px\">\n",
        "<h1> Question  #4c): </h1>\n",
        "<b> \n",
        "How many dimensions does the new feature have? Hint: use the attribute \"shape\".\n",
        "</b>\n",
        "</div>\n"
      ]
    },
    {
      "cell_type": "code",
      "execution_count": 162,
      "metadata": {
        "id": "P8xQpG9q0Wfr",
        "colab": {
          "base_uri": "https://localhost:8080/"
        },
        "outputId": "a00ec446-fc74-4d24-8260-2bc082b503bd"
      },
      "outputs": [
        {
          "output_type": "execute_result",
          "data": {
            "text/plain": [
              "15"
            ]
          },
          "metadata": {},
          "execution_count": 162
        }
      ],
      "source": [
        "# Write your code below and press Shift+Enter to execute \n",
        "x_train_pr1.shape[1]"
      ]
    },
    {
      "cell_type": "markdown",
      "metadata": {
        "id": "SijgTE0w0Wfr"
      },
      "source": [
        "<details><summary>Click here for the solution</summary>\n",
        "\n",
        "```python\n",
        "x_train_pr1.shape #there are now 15 features\n",
        "\n",
        "\n",
        "```\n",
        "\n",
        "</details>\n"
      ]
    },
    {
      "cell_type": "markdown",
      "metadata": {
        "id": "foeiWXHG0Wfr"
      },
      "source": [
        "<div class=\"alert alert-danger alertdanger\" style=\"margin-top: 20px\">\n",
        "<h1> Question  #4d): </h1>\n",
        "\n",
        "<b> \n",
        "Create a linear regression model \"poly1\". Train the object using the method \"fit\" using the polynomial features.</b>\n",
        "</div>\n"
      ]
    },
    {
      "cell_type": "code",
      "execution_count": 163,
      "metadata": {
        "id": "m1LAOPW70Wfr",
        "colab": {
          "base_uri": "https://localhost:8080/"
        },
        "outputId": "a41b204d-925b-4b53-a3b2-4b7a392e09b7"
      },
      "outputs": [
        {
          "output_type": "execute_result",
          "data": {
            "text/plain": [
              "LinearRegression()"
            ]
          },
          "metadata": {},
          "execution_count": 163
        }
      ],
      "source": [
        "# Write your code below and press Shift+Enter to execute \n",
        "poly1 = LinearRegression()\n",
        "poly1.fit(x_train_pr1, y_train)"
      ]
    },
    {
      "cell_type": "markdown",
      "metadata": {
        "id": "7Hw6GdCC0Wfs"
      },
      "source": [
        "<details><summary>Click here for the solution</summary>\n",
        "\n",
        "```python\n",
        "poly1=LinearRegression().fit(x_train_pr1,y_train)\n",
        "\n",
        "\n",
        "```\n",
        "\n",
        "</details>\n"
      ]
    },
    {
      "cell_type": "markdown",
      "metadata": {
        "id": "pGNX12v80Wfs"
      },
      "source": [
        " <div class=\"alert alert-danger alertdanger\" style=\"margin-top: 20px\">\n",
        "<h1> Question  #4e): </h1>\n",
        "<b>Use the method  \"predict\" to predict an output on the polynomial features, then use the function \"DistributionPlot\" to display the distribution of the predicted test output vs. the actual test data.</b>\n",
        "</div>\n"
      ]
    },
    {
      "cell_type": "code",
      "execution_count": 165,
      "metadata": {
        "id": "HKAoTNf90Wfs",
        "colab": {
          "base_uri": "https://localhost:8080/",
          "height": 710
        },
        "outputId": "2c69c00b-3d1a-460c-b9f3-aff05bb9e6e4"
      },
      "outputs": [
        {
          "output_type": "stream",
          "name": "stderr",
          "text": [
            "/usr/local/lib/python3.7/dist-packages/seaborn/distributions.py:2619: FutureWarning: `distplot` is a deprecated function and will be removed in a future version. Please adapt your code to use either `displot` (a figure-level function with similar flexibility) or `kdeplot` (an axes-level function for kernel density plots).\n",
            "  warnings.warn(msg, FutureWarning)\n",
            "/usr/local/lib/python3.7/dist-packages/seaborn/distributions.py:2619: FutureWarning: `distplot` is a deprecated function and will be removed in a future version. Please adapt your code to use either `displot` (a figure-level function with similar flexibility) or `kdeplot` (an axes-level function for kernel density plots).\n",
            "  warnings.warn(msg, FutureWarning)\n"
          ]
        },
        {
          "output_type": "display_data",
          "data": {
            "text/plain": [
              "<Figure size 864x720 with 1 Axes>"
            ],
            "image/png": "[encoded data removed]"
          },
          "metadata": {
            "needs_background": "light"
          }
        }
      ],
      "source": [
        "# Write your code below and press Shift+Enter to execute \n",
        "yhat_test_pr1 = poly1.predict(x_test_pr1)\n",
        "distribution_plot(yhat_test_pr1, y_test, 'Predict test output', 'Actual test data', 'Predicted vs Actual')"
      ]
    },
    {
      "cell_type": "markdown",
      "metadata": {
        "id": "C7ZINYMm0Wfs"
      },
      "source": [
        "<details><summary>Click here for the solution</summary>\n",
        "\n",
        "```python\n",
        "yhat_test1=poly1.predict(x_test_pr1)\n",
        "\n",
        "Title='Distribution  Plot of  Predicted Value Using Test Data vs Data Distribution of Test Data'\n",
        "\n",
        "DistributionPlot(y_test, yhat_test1, \"Actual Values (Test)\", \"Predicted Values (Test)\", Title)\n",
        "\n",
        "```\n",
        "\n",
        "</details>\n"
      ]
    },
    {
      "cell_type": "markdown",
      "metadata": {
        "id": "0vJcfG_s0Wfs"
      },
      "source": [
        "<div class=\"alert alert-danger alertdanger\" style=\"margin-top: 20px\">\n",
        "<h1> Question  #4f): </h1>\n",
        "\n",
        "<b>Using the distribution plot above, describe (in words) the two regions where the predicted prices are less accurate than the actual prices.</b>\n",
        "\n",
        "</div>\n"
      ]
    },
    {
      "cell_type": "code",
      "execution_count": 166,
      "metadata": {
        "id": "wEfigaq30Wfs"
      },
      "outputs": [],
      "source": [
        "# Write your code below and press Shift+Enter to execute \n",
        "# $10000 and $30000"
      ]
    },
    {
      "cell_type": "markdown",
      "metadata": {
        "id": "uHlePk510Wft"
      },
      "source": [
        "<details><summary>Click here for the solution</summary>\n",
        "\n",
        "```python\n",
        "#The predicted value is higher than actual value for cars where the price $10,000 range, conversely the predicted price is lower than the price cost in the $30,000 to $40,000 range. As such the model is not as accurate in these ranges.\n",
        "\n",
        "```\n",
        "\n",
        "</details>\n"
      ]
    },
    {
      "cell_type": "markdown",
      "metadata": {
        "id": "WZh6qpDb0Wft"
      },
      "source": [
        "<h2 id=\"ref3\">Part 3: Ridge Regression</h2> \n"
      ]
    },
    {
      "cell_type": "markdown",
      "metadata": {
        "id": "_Dw1AkyV0Wft"
      },
      "source": [
        "In this section, we will review Ridge Regression and see how the parameter alpha changes the model. Just a note, here our test data will be used as validation data.\n"
      ]
    },
    {
      "cell_type": "markdown",
      "metadata": {
        "id": "zIvq5Pt-0Wft"
      },
      "source": [
        "Let's perform a degree two polynomial transformation on our data.\n"
      ]
    },
    {
      "cell_type": "code",
      "execution_count": 167,
      "metadata": {
        "id": "NeLXZWKk0Wft"
      },
      "outputs": [],
      "source": [
        "pr=PolynomialFeatures(degree=2)\n",
        "x_train_pr=pr.fit_transform(x_train[['horsepower', 'curb-weight', 'engine-size', 'highway-mpg','normalized-losses','symboling']])\n",
        "x_test_pr=pr.fit_transform(x_test[['horsepower', 'curb-weight', 'engine-size', 'highway-mpg','normalized-losses','symboling']])"
      ]
    },
    {
      "cell_type": "markdown",
      "metadata": {
        "id": "6h4vaCbb0Wfu"
      },
      "source": [
        "Let's import  <b>Ridge</b>  from the module <b>linear models</b>.\n"
      ]
    },
    {
      "cell_type": "code",
      "execution_count": 168,
      "metadata": {
        "id": "ET-2jym20Wfu"
      },
      "outputs": [],
      "source": [
        "from sklearn.linear_model import Ridge"
      ]
    },
    {
      "cell_type": "markdown",
      "metadata": {
        "id": "p_2lGib90Wfu"
      },
      "source": [
        "Let's create a Ridge regression object, setting the regularization parameter (alpha) to 0.1\n"
      ]
    },
    {
      "cell_type": "code",
      "execution_count": 172,
      "metadata": {
        "id": "JdKp-pA70Wfu"
      },
      "outputs": [],
      "source": [
        "rige_model=Ridge(alpha=0.1)"
      ]
    },
    {
      "cell_type": "markdown",
      "metadata": {
        "id": "xpVB23ca0Wfu"
      },
      "source": [
        "Like regular regression, you can fit the model using the method <b>fit</b>.\n"
      ]
    },
    {
      "cell_type": "code",
      "execution_count": 173,
      "metadata": {
        "colab": {
          "base_uri": "https://localhost:8080/"
        },
        "id": "6i_IYUo_0Wfv",
        "outputId": "b86fb0c5-fae5-497c-d843-e28894525ab1"
      },
      "outputs": [
        {
          "output_type": "stream",
          "name": "stderr",
          "text": [
            "/usr/local/lib/python3.7/dist-packages/sklearn/linear_model/_ridge.py:157: LinAlgWarning: Ill-conditioned matrix (rcond=1.02972e-16): result may not be accurate.\n",
            "  return linalg.solve(A, Xy, sym_pos=True, overwrite_a=True).T\n"
          ]
        },
        {
          "output_type": "execute_result",
          "data": {
            "text/plain": [
              "Ridge(alpha=0.1)"
            ]
          },
          "metadata": {},
          "execution_count": 173
        }
      ],
      "source": [
        "rige_model.fit(x_train_pr, y_train)"
      ]
    },
    {
      "cell_type": "markdown",
      "metadata": {
        "id": "SoEY_BDe0Wfv"
      },
      "source": [
        "Similarly, you can obtain a prediction:\n"
      ]
    },
    {
      "cell_type": "code",
      "execution_count": 175,
      "metadata": {
        "id": "lWKfvDf90Wfv"
      },
      "outputs": [],
      "source": [
        "yhat = rige_model.predict(x_test_pr)"
      ]
    },
    {
      "cell_type": "markdown",
      "metadata": {
        "id": "yYFyizUh0Wfv"
      },
      "source": [
        "Let's compare the first five predicted samples to our test set:\n"
      ]
    },
    {
      "cell_type": "code",
      "execution_count": 176,
      "metadata": {
        "colab": {
          "base_uri": "https://localhost:8080/"
        },
        "id": "lpeTHi0b0Wfv",
        "outputId": "98f49450-8fca-4c00-a1d4-2d4c74d7540c"
      },
      "outputs": [
        {
          "output_type": "stream",
          "name": "stdout",
          "text": [
            "predicted: [ 6567.83081933  9597.97151399 20836.22326843 19347.69543463]\n",
            "test set : [ 6295. 10698. 13860. 13499.]\n"
          ]
        }
      ],
      "source": [
        "print('predicted:', yhat[0:4])\n",
        "print('test set :', y_test[0:4].values)"
      ]
    },
    {
      "cell_type": "markdown",
      "metadata": {
        "id": "vcOQiPNN0Wfw"
      },
      "source": [
        "We select the value of alpha that minimizes the test error. To do so, we can use a for loop. We have also created a progress bar to see how many iterations we have completed so far.\n"
      ]
    },
    {
      "cell_type": "code",
      "execution_count": 178,
      "metadata": {
        "colab": {
          "base_uri": "https://localhost:8080/"
        },
        "id": "HXn8A6M90Wfw",
        "outputId": "383db284-9685-44ec-f6d6-613b0d81d76b"
      },
      "outputs": [
        {
          "output_type": "stream",
          "name": "stderr",
          "text": [
            "100%|██████████| 1000/1000 [00:07<00:00, 142.34it/s, Test Score=0.564, Train Score=0.859]\n"
          ]
        }
      ],
      "source": [
        "from tqdm import tqdm\n",
        "\n",
        "Rsqu_test = []\n",
        "Rsqu_train = []\n",
        "dummy1 = []\n",
        "Alpha = 10 * np.array(range(0,1000))\n",
        "pbar = tqdm(Alpha)\n",
        "\n",
        "for alpha in pbar:\n",
        "    RigeModel = Ridge(alpha=alpha) \n",
        "    RigeModel.fit(x_train_pr, y_train)\n",
        "    test_score, train_score = RigeModel.score(x_test_pr, y_test), RigeModel.score(x_train_pr, y_train)\n",
        "    \n",
        "    pbar.set_postfix({\"Test Score\": test_score, \"Train Score\": train_score})\n",
        "\n",
        "    Rsqu_test.append(test_score)\n",
        "    Rsqu_train.append(train_score)"
      ]
    },
    {
      "cell_type": "markdown",
      "metadata": {
        "id": "vl5Xs7x40Wfw"
      },
      "source": [
        "We can plot out the value of R^2 for different alphas:\n"
      ]
    },
    {
      "cell_type": "code",
      "execution_count": null,
      "metadata": {
        "colab": {
          "base_uri": "https://localhost:8080/",
          "height": 623
        },
        "id": "v_APPlqe0Wfw",
        "outputId": "634a96ea-fdd6-4e3f-94dc-b5a0b2785c4b"
      },
      "outputs": [
        {
          "output_type": "execute_result",
          "data": {
            "text/plain": [
              "<matplotlib.legend.Legend at 0x7f1c380f6b90>"
            ]
          },
          "metadata": {},
          "execution_count": 58
        },
        {
          "output_type": "display_data",
          "data": {
            "text/plain": [
              "<Figure size 864x720 with 1 Axes>"
            ],
            "image/png": "[encoded data removed]"
          },
          "metadata": {
            "needs_background": "light"
          }
        }
      ],
      "source": [
        "width = 12\n",
        "height = 10\n",
        "plt.figure(figsize=(width, height))\n",
        "\n",
        "plt.plot(Alpha,Rsqu_test, label='Validation data  ')\n",
        "plt.plot(Alpha,Rsqu_train, 'r', label='Training data ')\n",
        "plt.xlabel('alpha')\n",
        "plt.ylabel('R^2')\n",
        "plt.legend()"
      ]
    },
    {
      "cell_type": "markdown",
      "metadata": {
        "id": "bOpXZ8O_0Wfw"
      },
      "source": [
        "**Figure 4**: The blue line represents the R^2 of the validation data, and the red line represents the R^2 of the training data. The x-axis represents the different values of Alpha.\n"
      ]
    },
    {
      "cell_type": "markdown",
      "metadata": {
        "id": "Jm6z4NLb0Wfx"
      },
      "source": [
        "Here the model is built and tested on the same data, so the training and test data are the same.\n",
        "\n",
        "The red line in Figure 4 represents the R^2 of the training data. As alpha increases the R^2 decreases. Therefore, as alpha increases, the model performs worse on the training data\n",
        "\n",
        "The blue line represents the R^2 on the validation data. As the value for alpha increases, the R^2 increases and converges at a point.\n"
      ]
    },
    {
      "cell_type": "markdown",
      "metadata": {
        "id": "Nhsf_yXB0Wfx"
      },
      "source": [
        "<div class=\"alert alert-danger alertdanger\" style=\"margin-top: 20px\">\n",
        "<h1> Question  #5): </h1>\n",
        "\n",
        "Perform Ridge regression. Calculate the R^2 using the polynomial features, use the training data to train the model and use the test data to test the model. The parameter alpha should be set to 10.\n",
        "\n",
        "</div>\n"
      ]
    },
    {
      "cell_type": "code",
      "execution_count": 179,
      "metadata": {
        "id": "Zw1vz4RG0Wfx",
        "colab": {
          "base_uri": "https://localhost:8080/"
        },
        "outputId": "3468bf9b-130d-4670-ef88-f848893e18fa"
      },
      "outputs": [
        {
          "output_type": "execute_result",
          "data": {
            "text/plain": [
              "0.5418576440206702"
            ]
          },
          "metadata": {},
          "execution_count": 179
        }
      ],
      "source": [
        "# Write your code below and press Shift+Enter to execute \n",
        "rige_model = Ridge(alpha=10)\n",
        "rige_model.fit(x_train_pr, y_train)\n",
        "rige_model.score(x_test_pr, y_test)"
      ]
    },
    {
      "cell_type": "markdown",
      "metadata": {
        "id": "lVeTTNhn0Wfx"
      },
      "source": [
        "<details><summary>Click here for the solution</summary>\n",
        "\n",
        "```python\n",
        "RigeModel = Ridge(alpha=10) \n",
        "RigeModel.fit(x_train_pr, y_train)\n",
        "RigeModel.score(x_test_pr, y_test)\n",
        "\n",
        "```\n",
        "\n",
        "</details>\n"
      ]
    },
    {
      "cell_type": "markdown",
      "metadata": {
        "id": "Beu6eWmi0Wfx"
      },
      "source": [
        "<h2 id=\"ref4\">Part 4: Grid Search</h2>\n"
      ]
    },
    {
      "cell_type": "markdown",
      "metadata": {
        "id": "alEF_jdC0Wfx"
      },
      "source": [
        "The term alpha is a hyperparameter. Sklearn has the class <b>GridSearchCV</b> to make the process of finding the best hyperparameter simpler.\n"
      ]
    },
    {
      "cell_type": "markdown",
      "metadata": {
        "id": "VJHpjxsE0Wfx"
      },
      "source": [
        "Let's import <b>GridSearchCV</b> from  the module <b>model_selection</b>.\n"
      ]
    },
    {
      "cell_type": "code",
      "execution_count": 180,
      "metadata": {
        "id": "PGTFdVmc0Wfy"
      },
      "outputs": [],
      "source": [
        "from sklearn.model_selection import GridSearchCV"
      ]
    },
    {
      "cell_type": "markdown",
      "metadata": {
        "id": "KiDquaFY0Wfy"
      },
      "source": [
        "We create a dictionary of parameter values:\n"
      ]
    },
    {
      "cell_type": "code",
      "execution_count": 182,
      "metadata": {
        "id": "6J9J53FI0Wfy"
      },
      "outputs": [],
      "source": [
        "parameters1= [{'alpha': [0.001,0.1,1, 10, 100, 1000, 10000, 100000]}]"
      ]
    },
    {
      "cell_type": "markdown",
      "metadata": {
        "id": "YeRRD3sp0Wfy"
      },
      "source": [
        "Create a Ridge regression object:\n"
      ]
    },
    {
      "cell_type": "code",
      "execution_count": 183,
      "metadata": {
        "id": "41j6AXwR0Wfy"
      },
      "outputs": [],
      "source": [
        "RR=Ridge()"
      ]
    },
    {
      "cell_type": "markdown",
      "metadata": {
        "id": "la9RlmVl0Wfz"
      },
      "source": [
        "Create a ridge grid search object:\n"
      ]
    },
    {
      "cell_type": "code",
      "execution_count": 184,
      "metadata": {
        "id": "xhBHvWoD0Wfz"
      },
      "outputs": [],
      "source": [
        "grid = GridSearchCV(RR, parameters1,cv=4)"
      ]
    },
    {
      "cell_type": "markdown",
      "metadata": {
        "id": "zFjMDfpY0Wfz"
      },
      "source": [
        "In order to avoid a deprecation warning due to the iid parameter, we set the value of iid to \"None\".\n",
        "\n",
        "Fit the model:\n"
      ]
    },
    {
      "cell_type": "code",
      "execution_count": 185,
      "metadata": {
        "colab": {
          "base_uri": "https://localhost:8080/"
        },
        "id": "PaiF4gVw0Wfz",
        "outputId": "dd93c1f3-5728-46bb-f6d9-99ccaa1ec6a8"
      },
      "outputs": [
        {
          "output_type": "execute_result",
          "data": {
            "text/plain": [
              "GridSearchCV(cv=4, estimator=Ridge(),\n",
              "             param_grid=[{'alpha': [0.001, 0.1, 1, 10, 100, 1000, 10000, 100000,\n",
              "                                    100000]}])"
            ]
          },
          "metadata": {},
          "execution_count": 185
        }
      ],
      "source": [
        "grid.fit(x_data[['horsepower', 'curb-weight', 'engine-size', 'highway-mpg']], y_data)"
      ]
    },
    {
      "cell_type": "markdown",
      "metadata": {
        "id": "AhofXnj40Wfz"
      },
      "source": [
        "The object finds the best parameter values on the validation data. We can obtain the estimator with the best parameters and assign it to the variable BestRR as follows:\n"
      ]
    },
    {
      "cell_type": "code",
      "execution_count": 186,
      "metadata": {
        "id": "oAz2cN950Wf0"
      },
      "outputs": [],
      "source": [
        "bestRR=grid.best_estimator_\n"
      ]
    },
    {
      "cell_type": "markdown",
      "metadata": {
        "id": "b1YS_wgm0Wf0"
      },
      "source": [
        "We now test our model on the test data:\n"
      ]
    },
    {
      "cell_type": "code",
      "execution_count": 187,
      "metadata": {
        "colab": {
          "base_uri": "https://localhost:8080/"
        },
        "id": "_FP1Fg030Wf0",
        "outputId": "b30e33de-62bd-4f01-a496-dd86565eb3d8"
      },
      "outputs": [
        {
          "output_type": "execute_result",
          "data": {
            "text/plain": [
              "0.8411649831036151"
            ]
          },
          "metadata": {},
          "execution_count": 187
        }
      ],
      "source": [
        "bestRR.score(x_test[['horsepower', 'curb-weight', 'engine-size', 'highway-mpg']], y_test)"
      ]
    },
    {
      "cell_type": "markdown",
      "metadata": {
        "id": "eM4p5JrC0Wf0"
      },
      "source": [
        "<div class=\"alert alert-danger alertdanger\" style=\"margin-top: 20px\">\n",
        "<h1> Question  #6): </h1>\n",
        "Perform a grid search for the alpha parameter and the normalization parameter, then find the best values of the parameters:\n",
        "</div>\n"
      ]
    },
    {
      "cell_type": "code",
      "execution_count": 196,
      "metadata": {
        "id": "OJzbqC9X0Wf0",
        "colab": {
          "base_uri": "https://localhost:8080/"
        },
        "outputId": "1f22b331-85ae-4a49-b10f-09e923d73bda"
      },
      "outputs": [
        {
          "output_type": "stream",
          "name": "stderr",
          "text": [
            "/usr/local/lib/python3.7/dist-packages/sklearn/linear_model/_base.py:145: FutureWarning: 'normalize' was deprecated in version 1.0 and will be removed in 1.2.\n",
            "If you wish to scale the data, use Pipeline with a StandardScaler in a preprocessing stage. To reproduce the previous behavior:\n",
            "\n",
            "from sklearn.pipeline import make_pipeline\n",
            "\n",
            "model = make_pipeline(StandardScaler(with_mean=False), Ridge())\n",
            "\n",
            "If you wish to pass a sample_weight parameter, you need to pass it as a fit parameter to each step of the pipeline as follows:\n",
            "\n",
            "kwargs = {s[0] + '__sample_weight': sample_weight for s in model.steps}\n",
            "model.fit(X, y, **kwargs)\n",
            "\n",
            "Set parameter alpha to: original_alpha * n_samples. \n",
            "  FutureWarning,\n",
            "/usr/local/lib/python3.7/dist-packages/sklearn/linear_model/_base.py:145: FutureWarning: 'normalize' was deprecated in version 1.0 and will be removed in 1.2.\n",
            "If you wish to scale the data, use Pipeline with a StandardScaler in a preprocessing stage. To reproduce the previous behavior:\n",
            "\n",
            "from sklearn.pipeline import make_pipeline\n",
            "\n",
            "model = make_pipeline(StandardScaler(with_mean=False), Ridge())\n",
            "\n",
            "If you wish to pass a sample_weight parameter, you need to pass it as a fit parameter to each step of the pipeline as follows:\n",
            "\n",
            "kwargs = {s[0] + '__sample_weight': sample_weight for s in model.steps}\n",
            "model.fit(X, y, **kwargs)\n",
            "\n",
            "Set parameter alpha to: original_alpha * n_samples. \n",
            "  FutureWarning,\n",
            "/usr/local/lib/python3.7/dist-packages/sklearn/linear_model/_base.py:145: FutureWarning: 'normalize' was deprecated in version 1.0 and will be removed in 1.2.\n",
            "If you wish to scale the data, use Pipeline with a StandardScaler in a preprocessing stage. To reproduce the previous behavior:\n",
            "\n",
            "from sklearn.pipeline import make_pipeline\n",
            "\n",
            "model = make_pipeline(StandardScaler(with_mean=False), Ridge())\n",
            "\n",
            "If you wish to pass a sample_weight parameter, you need to pass it as a fit parameter to each step of the pipeline as follows:\n",
            "\n",
            "kwargs = {s[0] + '__sample_weight': sample_weight for s in model.steps}\n",
            "model.fit(X, y, **kwargs)\n",
            "\n",
            "Set parameter alpha to: original_alpha * n_samples. \n",
            "  FutureWarning,\n",
            "/usr/local/lib/python3.7/dist-packages/sklearn/linear_model/_base.py:145: FutureWarning: 'normalize' was deprecated in version 1.0 and will be removed in 1.2.\n",
            "If you wish to scale the data, use Pipeline with a StandardScaler in a preprocessing stage. To reproduce the previous behavior:\n",
            "\n",
            "from sklearn.pipeline import make_pipeline\n",
            "\n",
            "model = make_pipeline(StandardScaler(with_mean=False), Ridge())\n",
            "\n",
            "If you wish to pass a sample_weight parameter, you need to pass it as a fit parameter to each step of the pipeline as follows:\n",
            "\n",
            "kwargs = {s[0] + '__sample_weight': sample_weight for s in model.steps}\n",
            "model.fit(X, y, **kwargs)\n",
            "\n",
            "Set parameter alpha to: original_alpha * n_samples. \n",
            "  FutureWarning,\n",
            "/usr/local/lib/python3.7/dist-packages/sklearn/linear_model/_base.py:155: FutureWarning: 'normalize' was deprecated in version 1.0 and will be removed in 1.2. Please leave the normalize parameter to its default value to silence this warning. The default behavior of this estimator is to not do any normalization. If normalization is needed please use sklearn.preprocessing.StandardScaler instead.\n",
            "  FutureWarning,\n",
            "/usr/local/lib/python3.7/dist-packages/sklearn/linear_model/_base.py:155: FutureWarning: 'normalize' was deprecated in version 1.0 and will be removed in 1.2. Please leave the normalize parameter to its default value to silence this warning. The default behavior of this estimator is to not do any normalization. If normalization is needed please use sklearn.preprocessing.StandardScaler instead.\n",
            "  FutureWarning,\n",
            "/usr/local/lib/python3.7/dist-packages/sklearn/linear_model/_base.py:155: FutureWarning: 'normalize' was deprecated in version 1.0 and will be removed in 1.2. Please leave the normalize parameter to its default value to silence this warning. The default behavior of this estimator is to not do any normalization. If normalization is needed please use sklearn.preprocessing.StandardScaler instead.\n",
            "  FutureWarning,\n",
            "/usr/local/lib/python3.7/dist-packages/sklearn/linear_model/_base.py:155: FutureWarning: 'normalize' was deprecated in version 1.0 and will be removed in 1.2. Please leave the normalize parameter to its default value to silence this warning. The default behavior of this estimator is to not do any normalization. If normalization is needed please use sklearn.preprocessing.StandardScaler instead.\n",
            "  FutureWarning,\n",
            "/usr/local/lib/python3.7/dist-packages/sklearn/linear_model/_base.py:145: FutureWarning: 'normalize' was deprecated in version 1.0 and will be removed in 1.2.\n",
            "If you wish to scale the data, use Pipeline with a StandardScaler in a preprocessing stage. To reproduce the previous behavior:\n",
            "\n",
            "from sklearn.pipeline import make_pipeline\n",
            "\n",
            "model = make_pipeline(StandardScaler(with_mean=False), Ridge())\n",
            "\n",
            "If you wish to pass a sample_weight parameter, you need to pass it as a fit parameter to each step of the pipeline as follows:\n",
            "\n",
            "kwargs = {s[0] + '__sample_weight': sample_weight for s in model.steps}\n",
            "model.fit(X, y, **kwargs)\n",
            "\n",
            "Set parameter alpha to: original_alpha * n_samples. \n",
            "  FutureWarning,\n",
            "/usr/local/lib/python3.7/dist-packages/sklearn/linear_model/_base.py:145: FutureWarning: 'normalize' was deprecated in version 1.0 and will be removed in 1.2.\n",
            "If you wish to scale the data, use Pipeline with a StandardScaler in a preprocessing stage. To reproduce the previous behavior:\n",
            "\n",
            "from sklearn.pipeline import make_pipeline\n",
            "\n",
            "model = make_pipeline(StandardScaler(with_mean=False), Ridge())\n",
            "\n",
            "If you wish to pass a sample_weight parameter, you need to pass it as a fit parameter to each step of the pipeline as follows:\n",
            "\n",
            "kwargs = {s[0] + '__sample_weight': sample_weight for s in model.steps}\n",
            "model.fit(X, y, **kwargs)\n",
            "\n",
            "Set parameter alpha to: original_alpha * n_samples. \n",
            "  FutureWarning,\n",
            "/usr/local/lib/python3.7/dist-packages/sklearn/linear_model/_base.py:145: FutureWarning: 'normalize' was deprecated in version 1.0 and will be removed in 1.2.\n",
            "If you wish to scale the data, use Pipeline with a StandardScaler in a preprocessing stage. To reproduce the previous behavior:\n",
            "\n",
            "from sklearn.pipeline import make_pipeline\n",
            "\n",
            "model = make_pipeline(StandardScaler(with_mean=False), Ridge())\n",
            "\n",
            "If you wish to pass a sample_weight parameter, you need to pass it as a fit parameter to each step of the pipeline as follows:\n",
            "\n",
            "kwargs = {s[0] + '__sample_weight': sample_weight for s in model.steps}\n",
            "model.fit(X, y, **kwargs)\n",
            "\n",
            "Set parameter alpha to: original_alpha * n_samples. \n",
            "  FutureWarning,\n",
            "/usr/local/lib/python3.7/dist-packages/sklearn/linear_model/_base.py:145: FutureWarning: 'normalize' was deprecated in version 1.0 and will be removed in 1.2.\n",
            "If you wish to scale the data, use Pipeline with a StandardScaler in a preprocessing stage. To reproduce the previous behavior:\n",
            "\n",
            "from sklearn.pipeline import make_pipeline\n",
            "\n",
            "model = make_pipeline(StandardScaler(with_mean=False), Ridge())\n",
            "\n",
            "If you wish to pass a sample_weight parameter, you need to pass it as a fit parameter to each step of the pipeline as follows:\n",
            "\n",
            "kwargs = {s[0] + '__sample_weight': sample_weight for s in model.steps}\n",
            "model.fit(X, y, **kwargs)\n",
            "\n",
            "Set parameter alpha to: original_alpha * n_samples. \n",
            "  FutureWarning,\n",
            "/usr/local/lib/python3.7/dist-packages/sklearn/linear_model/_base.py:155: FutureWarning: 'normalize' was deprecated in version 1.0 and will be removed in 1.2. Please leave the normalize parameter to its default value to silence this warning. The default behavior of this estimator is to not do any normalization. If normalization is needed please use sklearn.preprocessing.StandardScaler instead.\n",
            "  FutureWarning,\n",
            "/usr/local/lib/python3.7/dist-packages/sklearn/linear_model/_base.py:155: FutureWarning: 'normalize' was deprecated in version 1.0 and will be removed in 1.2. Please leave the normalize parameter to its default value to silence this warning. The default behavior of this estimator is to not do any normalization. If normalization is needed please use sklearn.preprocessing.StandardScaler instead.\n",
            "  FutureWarning,\n",
            "/usr/local/lib/python3.7/dist-packages/sklearn/linear_model/_base.py:155: FutureWarning: 'normalize' was deprecated in version 1.0 and will be removed in 1.2. Please leave the normalize parameter to its default value to silence this warning. The default behavior of this estimator is to not do any normalization. If normalization is needed please use sklearn.preprocessing.StandardScaler instead.\n",
            "  FutureWarning,\n",
            "/usr/local/lib/python3.7/dist-packages/sklearn/linear_model/_base.py:155: FutureWarning: 'normalize' was deprecated in version 1.0 and will be removed in 1.2. Please leave the normalize parameter to its default value to silence this warning. The default behavior of this estimator is to not do any normalization. If normalization is needed please use sklearn.preprocessing.StandardScaler instead.\n",
            "  FutureWarning,\n",
            "/usr/local/lib/python3.7/dist-packages/sklearn/linear_model/_base.py:145: FutureWarning: 'normalize' was deprecated in version 1.0 and will be removed in 1.2.\n",
            "If you wish to scale the data, use Pipeline with a StandardScaler in a preprocessing stage. To reproduce the previous behavior:\n",
            "\n",
            "from sklearn.pipeline import make_pipeline\n",
            "\n",
            "model = make_pipeline(StandardScaler(with_mean=False), Ridge())\n",
            "\n",
            "If you wish to pass a sample_weight parameter, you need to pass it as a fit parameter to each step of the pipeline as follows:\n",
            "\n",
            "kwargs = {s[0] + '__sample_weight': sample_weight for s in model.steps}\n",
            "model.fit(X, y, **kwargs)\n",
            "\n",
            "Set parameter alpha to: original_alpha * n_samples. \n",
            "  FutureWarning,\n",
            "/usr/local/lib/python3.7/dist-packages/sklearn/linear_model/_base.py:145: FutureWarning: 'normalize' was deprecated in version 1.0 and will be removed in 1.2.\n",
            "If you wish to scale the data, use Pipeline with a StandardScaler in a preprocessing stage. To reproduce the previous behavior:\n",
            "\n",
            "from sklearn.pipeline import make_pipeline\n",
            "\n",
            "model = make_pipeline(StandardScaler(with_mean=False), Ridge())\n",
            "\n",
            "If you wish to pass a sample_weight parameter, you need to pass it as a fit parameter to each step of the pipeline as follows:\n",
            "\n",
            "kwargs = {s[0] + '__sample_weight': sample_weight for s in model.steps}\n",
            "model.fit(X, y, **kwargs)\n",
            "\n",
            "Set parameter alpha to: original_alpha * n_samples. \n",
            "  FutureWarning,\n",
            "/usr/local/lib/python3.7/dist-packages/sklearn/linear_model/_base.py:145: FutureWarning: 'normalize' was deprecated in version 1.0 and will be removed in 1.2.\n",
            "If you wish to scale the data, use Pipeline with a StandardScaler in a preprocessing stage. To reproduce the previous behavior:\n",
            "\n",
            "from sklearn.pipeline import make_pipeline\n",
            "\n",
            "model = make_pipeline(StandardScaler(with_mean=False), Ridge())\n",
            "\n",
            "If you wish to pass a sample_weight parameter, you need to pass it as a fit parameter to each step of the pipeline as follows:\n",
            "\n",
            "kwargs = {s[0] + '__sample_weight': sample_weight for s in model.steps}\n",
            "model.fit(X, y, **kwargs)\n",
            "\n",
            "Set parameter alpha to: original_alpha * n_samples. \n",
            "  FutureWarning,\n",
            "/usr/local/lib/python3.7/dist-packages/sklearn/linear_model/_base.py:145: FutureWarning: 'normalize' was deprecated in version 1.0 and will be removed in 1.2.\n",
            "If you wish to scale the data, use Pipeline with a StandardScaler in a preprocessing stage. To reproduce the previous behavior:\n",
            "\n",
            "from sklearn.pipeline import make_pipeline\n",
            "\n",
            "model = make_pipeline(StandardScaler(with_mean=False), Ridge())\n",
            "\n",
            "If you wish to pass a sample_weight parameter, you need to pass it as a fit parameter to each step of the pipeline as follows:\n",
            "\n",
            "kwargs = {s[0] + '__sample_weight': sample_weight for s in model.steps}\n",
            "model.fit(X, y, **kwargs)\n",
            "\n",
            "Set parameter alpha to: original_alpha * n_samples. \n",
            "  FutureWarning,\n",
            "/usr/local/lib/python3.7/dist-packages/sklearn/linear_model/_base.py:155: FutureWarning: 'normalize' was deprecated in version 1.0 and will be removed in 1.2. Please leave the normalize parameter to its default value to silence this warning. The default behavior of this estimator is to not do any normalization. If normalization is needed please use sklearn.preprocessing.StandardScaler instead.\n",
            "  FutureWarning,\n",
            "/usr/local/lib/python3.7/dist-packages/sklearn/linear_model/_base.py:155: FutureWarning: 'normalize' was deprecated in version 1.0 and will be removed in 1.2. Please leave the normalize parameter to its default value to silence this warning. The default behavior of this estimator is to not do any normalization. If normalization is needed please use sklearn.preprocessing.StandardScaler instead.\n",
            "  FutureWarning,\n",
            "/usr/local/lib/python3.7/dist-packages/sklearn/linear_model/_base.py:155: FutureWarning: 'normalize' was deprecated in version 1.0 and will be removed in 1.2. Please leave the normalize parameter to its default value to silence this warning. The default behavior of this estimator is to not do any normalization. If normalization is needed please use sklearn.preprocessing.StandardScaler instead.\n",
            "  FutureWarning,\n",
            "/usr/local/lib/python3.7/dist-packages/sklearn/linear_model/_base.py:155: FutureWarning: 'normalize' was deprecated in version 1.0 and will be removed in 1.2. Please leave the normalize parameter to its default value to silence this warning. The default behavior of this estimator is to not do any normalization. If normalization is needed please use sklearn.preprocessing.StandardScaler instead.\n",
            "  FutureWarning,\n",
            "/usr/local/lib/python3.7/dist-packages/sklearn/linear_model/_base.py:145: FutureWarning: 'normalize' was deprecated in version 1.0 and will be removed in 1.2.\n",
            "If you wish to scale the data, use Pipeline with a StandardScaler in a preprocessing stage. To reproduce the previous behavior:\n",
            "\n",
            "from sklearn.pipeline import make_pipeline\n",
            "\n",
            "model = make_pipeline(StandardScaler(with_mean=False), Ridge())\n",
            "\n",
            "If you wish to pass a sample_weight parameter, you need to pass it as a fit parameter to each step of the pipeline as follows:\n",
            "\n",
            "kwargs = {s[0] + '__sample_weight': sample_weight for s in model.steps}\n",
            "model.fit(X, y, **kwargs)\n",
            "\n",
            "Set parameter alpha to: original_alpha * n_samples. \n",
            "  FutureWarning,\n",
            "/usr/local/lib/python3.7/dist-packages/sklearn/linear_model/_base.py:145: FutureWarning: 'normalize' was deprecated in version 1.0 and will be removed in 1.2.\n",
            "If you wish to scale the data, use Pipeline with a StandardScaler in a preprocessing stage. To reproduce the previous behavior:\n",
            "\n",
            "from sklearn.pipeline import make_pipeline\n",
            "\n",
            "model = make_pipeline(StandardScaler(with_mean=False), Ridge())\n",
            "\n",
            "If you wish to pass a sample_weight parameter, you need to pass it as a fit parameter to each step of the pipeline as follows:\n",
            "\n",
            "kwargs = {s[0] + '__sample_weight': sample_weight for s in model.steps}\n",
            "model.fit(X, y, **kwargs)\n",
            "\n",
            "Set parameter alpha to: original_alpha * n_samples. \n",
            "  FutureWarning,\n",
            "/usr/local/lib/python3.7/dist-packages/sklearn/linear_model/_base.py:145: FutureWarning: 'normalize' was deprecated in version 1.0 and will be removed in 1.2.\n",
            "If you wish to scale the data, use Pipeline with a StandardScaler in a preprocessing stage. To reproduce the previous behavior:\n",
            "\n",
            "from sklearn.pipeline import make_pipeline\n",
            "\n",
            "model = make_pipeline(StandardScaler(with_mean=False), Ridge())\n",
            "\n",
            "If you wish to pass a sample_weight parameter, you need to pass it as a fit parameter to each step of the pipeline as follows:\n",
            "\n",
            "kwargs = {s[0] + '__sample_weight': sample_weight for s in model.steps}\n",
            "model.fit(X, y, **kwargs)\n",
            "\n",
            "Set parameter alpha to: original_alpha * n_samples. \n",
            "  FutureWarning,\n",
            "/usr/local/lib/python3.7/dist-packages/sklearn/linear_model/_base.py:145: FutureWarning: 'normalize' was deprecated in version 1.0 and will be removed in 1.2.\n",
            "If you wish to scale the data, use Pipeline with a StandardScaler in a preprocessing stage. To reproduce the previous behavior:\n",
            "\n",
            "from sklearn.pipeline import make_pipeline\n",
            "\n",
            "model = make_pipeline(StandardScaler(with_mean=False), Ridge())\n",
            "\n",
            "If you wish to pass a sample_weight parameter, you need to pass it as a fit parameter to each step of the pipeline as follows:\n",
            "\n",
            "kwargs = {s[0] + '__sample_weight': sample_weight for s in model.steps}\n",
            "model.fit(X, y, **kwargs)\n",
            "\n",
            "Set parameter alpha to: original_alpha * n_samples. \n",
            "  FutureWarning,\n",
            "/usr/local/lib/python3.7/dist-packages/sklearn/linear_model/_base.py:155: FutureWarning: 'normalize' was deprecated in version 1.0 and will be removed in 1.2. Please leave the normalize parameter to its default value to silence this warning. The default behavior of this estimator is to not do any normalization. If normalization is needed please use sklearn.preprocessing.StandardScaler instead.\n",
            "  FutureWarning,\n",
            "/usr/local/lib/python3.7/dist-packages/sklearn/linear_model/_base.py:155: FutureWarning: 'normalize' was deprecated in version 1.0 and will be removed in 1.2. Please leave the normalize parameter to its default value to silence this warning. The default behavior of this estimator is to not do any normalization. If normalization is needed please use sklearn.preprocessing.StandardScaler instead.\n",
            "  FutureWarning,\n",
            "/usr/local/lib/python3.7/dist-packages/sklearn/linear_model/_base.py:155: FutureWarning: 'normalize' was deprecated in version 1.0 and will be removed in 1.2. Please leave the normalize parameter to its default value to silence this warning. The default behavior of this estimator is to not do any normalization. If normalization is needed please use sklearn.preprocessing.StandardScaler instead.\n",
            "  FutureWarning,\n",
            "/usr/local/lib/python3.7/dist-packages/sklearn/linear_model/_base.py:155: FutureWarning: 'normalize' was deprecated in version 1.0 and will be removed in 1.2. Please leave the normalize parameter to its default value to silence this warning. The default behavior of this estimator is to not do any normalization. If normalization is needed please use sklearn.preprocessing.StandardScaler instead.\n",
            "  FutureWarning,\n",
            "/usr/local/lib/python3.7/dist-packages/sklearn/linear_model/_base.py:145: FutureWarning: 'normalize' was deprecated in version 1.0 and will be removed in 1.2.\n",
            "If you wish to scale the data, use Pipeline with a StandardScaler in a preprocessing stage. To reproduce the previous behavior:\n",
            "\n",
            "from sklearn.pipeline import make_pipeline\n",
            "\n",
            "model = make_pipeline(StandardScaler(with_mean=False), Ridge())\n",
            "\n",
            "If you wish to pass a sample_weight parameter, you need to pass it as a fit parameter to each step of the pipeline as follows:\n",
            "\n",
            "kwargs = {s[0] + '__sample_weight': sample_weight for s in model.steps}\n",
            "model.fit(X, y, **kwargs)\n",
            "\n",
            "Set parameter alpha to: original_alpha * n_samples. \n",
            "  FutureWarning,\n",
            "/usr/local/lib/python3.7/dist-packages/sklearn/linear_model/_base.py:145: FutureWarning: 'normalize' was deprecated in version 1.0 and will be removed in 1.2.\n",
            "If you wish to scale the data, use Pipeline with a StandardScaler in a preprocessing stage. To reproduce the previous behavior:\n",
            "\n",
            "from sklearn.pipeline import make_pipeline\n",
            "\n",
            "model = make_pipeline(StandardScaler(with_mean=False), Ridge())\n",
            "\n",
            "If you wish to pass a sample_weight parameter, you need to pass it as a fit parameter to each step of the pipeline as follows:\n",
            "\n",
            "kwargs = {s[0] + '__sample_weight': sample_weight for s in model.steps}\n",
            "model.fit(X, y, **kwargs)\n",
            "\n",
            "Set parameter alpha to: original_alpha * n_samples. \n",
            "  FutureWarning,\n",
            "/usr/local/lib/python3.7/dist-packages/sklearn/linear_model/_base.py:145: FutureWarning: 'normalize' was deprecated in version 1.0 and will be removed in 1.2.\n",
            "If you wish to scale the data, use Pipeline with a StandardScaler in a preprocessing stage. To reproduce the previous behavior:\n",
            "\n",
            "from sklearn.pipeline import make_pipeline\n",
            "\n",
            "model = make_pipeline(StandardScaler(with_mean=False), Ridge())\n",
            "\n",
            "If you wish to pass a sample_weight parameter, you need to pass it as a fit parameter to each step of the pipeline as follows:\n",
            "\n",
            "kwargs = {s[0] + '__sample_weight': sample_weight for s in model.steps}\n",
            "model.fit(X, y, **kwargs)\n",
            "\n",
            "Set parameter alpha to: original_alpha * n_samples. \n",
            "  FutureWarning,\n",
            "/usr/local/lib/python3.7/dist-packages/sklearn/linear_model/_base.py:145: FutureWarning: 'normalize' was deprecated in version 1.0 and will be removed in 1.2.\n",
            "If you wish to scale the data, use Pipeline with a StandardScaler in a preprocessing stage. To reproduce the previous behavior:\n",
            "\n",
            "from sklearn.pipeline import make_pipeline\n",
            "\n",
            "model = make_pipeline(StandardScaler(with_mean=False), Ridge())\n",
            "\n",
            "If you wish to pass a sample_weight parameter, you need to pass it as a fit parameter to each step of the pipeline as follows:\n",
            "\n",
            "kwargs = {s[0] + '__sample_weight': sample_weight for s in model.steps}\n",
            "model.fit(X, y, **kwargs)\n",
            "\n",
            "Set parameter alpha to: original_alpha * n_samples. \n",
            "  FutureWarning,\n",
            "/usr/local/lib/python3.7/dist-packages/sklearn/linear_model/_base.py:155: FutureWarning: 'normalize' was deprecated in version 1.0 and will be removed in 1.2. Please leave the normalize parameter to its default value to silence this warning. The default behavior of this estimator is to not do any normalization. If normalization is needed please use sklearn.preprocessing.StandardScaler instead.\n",
            "  FutureWarning,\n",
            "/usr/local/lib/python3.7/dist-packages/sklearn/linear_model/_base.py:155: FutureWarning: 'normalize' was deprecated in version 1.0 and will be removed in 1.2. Please leave the normalize parameter to its default value to silence this warning. The default behavior of this estimator is to not do any normalization. If normalization is needed please use sklearn.preprocessing.StandardScaler instead.\n",
            "  FutureWarning,\n",
            "/usr/local/lib/python3.7/dist-packages/sklearn/linear_model/_base.py:155: FutureWarning: 'normalize' was deprecated in version 1.0 and will be removed in 1.2. Please leave the normalize parameter to its default value to silence this warning. The default behavior of this estimator is to not do any normalization. If normalization is needed please use sklearn.preprocessing.StandardScaler instead.\n",
            "  FutureWarning,\n",
            "/usr/local/lib/python3.7/dist-packages/sklearn/linear_model/_base.py:155: FutureWarning: 'normalize' was deprecated in version 1.0 and will be removed in 1.2. Please leave the normalize parameter to its default value to silence this warning. The default behavior of this estimator is to not do any normalization. If normalization is needed please use sklearn.preprocessing.StandardScaler instead.\n",
            "  FutureWarning,\n",
            "/usr/local/lib/python3.7/dist-packages/sklearn/linear_model/_base.py:145: FutureWarning: 'normalize' was deprecated in version 1.0 and will be removed in 1.2.\n",
            "If you wish to scale the data, use Pipeline with a StandardScaler in a preprocessing stage. To reproduce the previous behavior:\n",
            "\n",
            "from sklearn.pipeline import make_pipeline\n",
            "\n",
            "model = make_pipeline(StandardScaler(with_mean=False), Ridge())\n",
            "\n",
            "If you wish to pass a sample_weight parameter, you need to pass it as a fit parameter to each step of the pipeline as follows:\n",
            "\n",
            "kwargs = {s[0] + '__sample_weight': sample_weight for s in model.steps}\n",
            "model.fit(X, y, **kwargs)\n",
            "\n",
            "Set parameter alpha to: original_alpha * n_samples. \n",
            "  FutureWarning,\n",
            "/usr/local/lib/python3.7/dist-packages/sklearn/linear_model/_base.py:145: FutureWarning: 'normalize' was deprecated in version 1.0 and will be removed in 1.2.\n",
            "If you wish to scale the data, use Pipeline with a StandardScaler in a preprocessing stage. To reproduce the previous behavior:\n",
            "\n",
            "from sklearn.pipeline import make_pipeline\n",
            "\n",
            "model = make_pipeline(StandardScaler(with_mean=False), Ridge())\n",
            "\n",
            "If you wish to pass a sample_weight parameter, you need to pass it as a fit parameter to each step of the pipeline as follows:\n",
            "\n",
            "kwargs = {s[0] + '__sample_weight': sample_weight for s in model.steps}\n",
            "model.fit(X, y, **kwargs)\n",
            "\n",
            "Set parameter alpha to: original_alpha * n_samples. \n",
            "  FutureWarning,\n",
            "/usr/local/lib/python3.7/dist-packages/sklearn/linear_model/_base.py:145: FutureWarning: 'normalize' was deprecated in version 1.0 and will be removed in 1.2.\n",
            "If you wish to scale the data, use Pipeline with a StandardScaler in a preprocessing stage. To reproduce the previous behavior:\n",
            "\n",
            "from sklearn.pipeline import make_pipeline\n",
            "\n",
            "model = make_pipeline(StandardScaler(with_mean=False), Ridge())\n",
            "\n",
            "If you wish to pass a sample_weight parameter, you need to pass it as a fit parameter to each step of the pipeline as follows:\n",
            "\n",
            "kwargs = {s[0] + '__sample_weight': sample_weight for s in model.steps}\n",
            "model.fit(X, y, **kwargs)\n",
            "\n",
            "Set parameter alpha to: original_alpha * n_samples. \n",
            "  FutureWarning,\n",
            "/usr/local/lib/python3.7/dist-packages/sklearn/linear_model/_base.py:145: FutureWarning: 'normalize' was deprecated in version 1.0 and will be removed in 1.2.\n",
            "If you wish to scale the data, use Pipeline with a StandardScaler in a preprocessing stage. To reproduce the previous behavior:\n",
            "\n",
            "from sklearn.pipeline import make_pipeline\n",
            "\n",
            "model = make_pipeline(StandardScaler(with_mean=False), Ridge())\n",
            "\n",
            "If you wish to pass a sample_weight parameter, you need to pass it as a fit parameter to each step of the pipeline as follows:\n",
            "\n",
            "kwargs = {s[0] + '__sample_weight': sample_weight for s in model.steps}\n",
            "model.fit(X, y, **kwargs)\n",
            "\n",
            "Set parameter alpha to: original_alpha * n_samples. \n",
            "  FutureWarning,\n",
            "/usr/local/lib/python3.7/dist-packages/sklearn/linear_model/_base.py:155: FutureWarning: 'normalize' was deprecated in version 1.0 and will be removed in 1.2. Please leave the normalize parameter to its default value to silence this warning. The default behavior of this estimator is to not do any normalization. If normalization is needed please use sklearn.preprocessing.StandardScaler instead.\n",
            "  FutureWarning,\n",
            "/usr/local/lib/python3.7/dist-packages/sklearn/linear_model/_base.py:155: FutureWarning: 'normalize' was deprecated in version 1.0 and will be removed in 1.2. Please leave the normalize parameter to its default value to silence this warning. The default behavior of this estimator is to not do any normalization. If normalization is needed please use sklearn.preprocessing.StandardScaler instead.\n",
            "  FutureWarning,\n",
            "/usr/local/lib/python3.7/dist-packages/sklearn/linear_model/_base.py:155: FutureWarning: 'normalize' was deprecated in version 1.0 and will be removed in 1.2. Please leave the normalize parameter to its default value to silence this warning. The default behavior of this estimator is to not do any normalization. If normalization is needed please use sklearn.preprocessing.StandardScaler instead.\n",
            "  FutureWarning,\n",
            "/usr/local/lib/python3.7/dist-packages/sklearn/linear_model/_base.py:155: FutureWarning: 'normalize' was deprecated in version 1.0 and will be removed in 1.2. Please leave the normalize parameter to its default value to silence this warning. The default behavior of this estimator is to not do any normalization. If normalization is needed please use sklearn.preprocessing.StandardScaler instead.\n",
            "  FutureWarning,\n",
            "/usr/local/lib/python3.7/dist-packages/sklearn/linear_model/_base.py:145: FutureWarning: 'normalize' was deprecated in version 1.0 and will be removed in 1.2.\n",
            "If you wish to scale the data, use Pipeline with a StandardScaler in a preprocessing stage. To reproduce the previous behavior:\n",
            "\n",
            "from sklearn.pipeline import make_pipeline\n",
            "\n",
            "model = make_pipeline(StandardScaler(with_mean=False), Ridge())\n",
            "\n",
            "If you wish to pass a sample_weight parameter, you need to pass it as a fit parameter to each step of the pipeline as follows:\n",
            "\n",
            "kwargs = {s[0] + '__sample_weight': sample_weight for s in model.steps}\n",
            "model.fit(X, y, **kwargs)\n",
            "\n",
            "Set parameter alpha to: original_alpha * n_samples. \n",
            "  FutureWarning,\n",
            "/usr/local/lib/python3.7/dist-packages/sklearn/linear_model/_base.py:145: FutureWarning: 'normalize' was deprecated in version 1.0 and will be removed in 1.2.\n",
            "If you wish to scale the data, use Pipeline with a StandardScaler in a preprocessing stage. To reproduce the previous behavior:\n",
            "\n",
            "from sklearn.pipeline import make_pipeline\n",
            "\n",
            "model = make_pipeline(StandardScaler(with_mean=False), Ridge())\n",
            "\n",
            "If you wish to pass a sample_weight parameter, you need to pass it as a fit parameter to each step of the pipeline as follows:\n",
            "\n",
            "kwargs = {s[0] + '__sample_weight': sample_weight for s in model.steps}\n",
            "model.fit(X, y, **kwargs)\n",
            "\n",
            "Set parameter alpha to: original_alpha * n_samples. \n",
            "  FutureWarning,\n",
            "/usr/local/lib/python3.7/dist-packages/sklearn/linear_model/_base.py:145: FutureWarning: 'normalize' was deprecated in version 1.0 and will be removed in 1.2.\n",
            "If you wish to scale the data, use Pipeline with a StandardScaler in a preprocessing stage. To reproduce the previous behavior:\n",
            "\n",
            "from sklearn.pipeline import make_pipeline\n",
            "\n",
            "model = make_pipeline(StandardScaler(with_mean=False), Ridge())\n",
            "\n",
            "If you wish to pass a sample_weight parameter, you need to pass it as a fit parameter to each step of the pipeline as follows:\n",
            "\n",
            "kwargs = {s[0] + '__sample_weight': sample_weight for s in model.steps}\n",
            "model.fit(X, y, **kwargs)\n",
            "\n",
            "Set parameter alpha to: original_alpha * n_samples. \n",
            "  FutureWarning,\n",
            "/usr/local/lib/python3.7/dist-packages/sklearn/linear_model/_base.py:145: FutureWarning: 'normalize' was deprecated in version 1.0 and will be removed in 1.2.\n",
            "If you wish to scale the data, use Pipeline with a StandardScaler in a preprocessing stage. To reproduce the previous behavior:\n",
            "\n",
            "from sklearn.pipeline import make_pipeline\n",
            "\n",
            "model = make_pipeline(StandardScaler(with_mean=False), Ridge())\n",
            "\n",
            "If you wish to pass a sample_weight parameter, you need to pass it as a fit parameter to each step of the pipeline as follows:\n",
            "\n",
            "kwargs = {s[0] + '__sample_weight': sample_weight for s in model.steps}\n",
            "model.fit(X, y, **kwargs)\n",
            "\n",
            "Set parameter alpha to: original_alpha * n_samples. \n",
            "  FutureWarning,\n",
            "/usr/local/lib/python3.7/dist-packages/sklearn/linear_model/_base.py:155: FutureWarning: 'normalize' was deprecated in version 1.0 and will be removed in 1.2. Please leave the normalize parameter to its default value to silence this warning. The default behavior of this estimator is to not do any normalization. If normalization is needed please use sklearn.preprocessing.StandardScaler instead.\n",
            "  FutureWarning,\n",
            "/usr/local/lib/python3.7/dist-packages/sklearn/linear_model/_base.py:155: FutureWarning: 'normalize' was deprecated in version 1.0 and will be removed in 1.2. Please leave the normalize parameter to its default value to silence this warning. The default behavior of this estimator is to not do any normalization. If normalization is needed please use sklearn.preprocessing.StandardScaler instead.\n",
            "  FutureWarning,\n",
            "/usr/local/lib/python3.7/dist-packages/sklearn/linear_model/_base.py:155: FutureWarning: 'normalize' was deprecated in version 1.0 and will be removed in 1.2. Please leave the normalize parameter to its default value to silence this warning. The default behavior of this estimator is to not do any normalization. If normalization is needed please use sklearn.preprocessing.StandardScaler instead.\n",
            "  FutureWarning,\n",
            "/usr/local/lib/python3.7/dist-packages/sklearn/linear_model/_base.py:155: FutureWarning: 'normalize' was deprecated in version 1.0 and will be removed in 1.2. Please leave the normalize parameter to its default value to silence this warning. The default behavior of this estimator is to not do any normalization. If normalization is needed please use sklearn.preprocessing.StandardScaler instead.\n",
            "  FutureWarning,\n",
            "/usr/local/lib/python3.7/dist-packages/sklearn/linear_model/_base.py:145: FutureWarning: 'normalize' was deprecated in version 1.0 and will be removed in 1.2.\n",
            "If you wish to scale the data, use Pipeline with a StandardScaler in a preprocessing stage. To reproduce the previous behavior:\n",
            "\n",
            "from sklearn.pipeline import make_pipeline\n",
            "\n",
            "model = make_pipeline(StandardScaler(with_mean=False), Ridge())\n",
            "\n",
            "If you wish to pass a sample_weight parameter, you need to pass it as a fit parameter to each step of the pipeline as follows:\n",
            "\n",
            "kwargs = {s[0] + '__sample_weight': sample_weight for s in model.steps}\n",
            "model.fit(X, y, **kwargs)\n",
            "\n",
            "Set parameter alpha to: original_alpha * n_samples. \n",
            "  FutureWarning,\n",
            "/usr/local/lib/python3.7/dist-packages/sklearn/linear_model/_base.py:145: FutureWarning: 'normalize' was deprecated in version 1.0 and will be removed in 1.2.\n",
            "If you wish to scale the data, use Pipeline with a StandardScaler in a preprocessing stage. To reproduce the previous behavior:\n",
            "\n",
            "from sklearn.pipeline import make_pipeline\n",
            "\n",
            "model = make_pipeline(StandardScaler(with_mean=False), Ridge())\n",
            "\n",
            "If you wish to pass a sample_weight parameter, you need to pass it as a fit parameter to each step of the pipeline as follows:\n",
            "\n",
            "kwargs = {s[0] + '__sample_weight': sample_weight for s in model.steps}\n",
            "model.fit(X, y, **kwargs)\n",
            "\n",
            "Set parameter alpha to: original_alpha * n_samples. \n",
            "  FutureWarning,\n",
            "/usr/local/lib/python3.7/dist-packages/sklearn/linear_model/_base.py:145: FutureWarning: 'normalize' was deprecated in version 1.0 and will be removed in 1.2.\n",
            "If you wish to scale the data, use Pipeline with a StandardScaler in a preprocessing stage. To reproduce the previous behavior:\n",
            "\n",
            "from sklearn.pipeline import make_pipeline\n",
            "\n",
            "model = make_pipeline(StandardScaler(with_mean=False), Ridge())\n",
            "\n",
            "If you wish to pass a sample_weight parameter, you need to pass it as a fit parameter to each step of the pipeline as follows:\n",
            "\n",
            "kwargs = {s[0] + '__sample_weight': sample_weight for s in model.steps}\n",
            "model.fit(X, y, **kwargs)\n",
            "\n",
            "Set parameter alpha to: original_alpha * n_samples. \n",
            "  FutureWarning,\n",
            "/usr/local/lib/python3.7/dist-packages/sklearn/linear_model/_base.py:145: FutureWarning: 'normalize' was deprecated in version 1.0 and will be removed in 1.2.\n",
            "If you wish to scale the data, use Pipeline with a StandardScaler in a preprocessing stage. To reproduce the previous behavior:\n",
            "\n",
            "from sklearn.pipeline import make_pipeline\n",
            "\n",
            "model = make_pipeline(StandardScaler(with_mean=False), Ridge())\n",
            "\n",
            "If you wish to pass a sample_weight parameter, you need to pass it as a fit parameter to each step of the pipeline as follows:\n",
            "\n",
            "kwargs = {s[0] + '__sample_weight': sample_weight for s in model.steps}\n",
            "model.fit(X, y, **kwargs)\n",
            "\n",
            "Set parameter alpha to: original_alpha * n_samples. \n",
            "  FutureWarning,\n",
            "/usr/local/lib/python3.7/dist-packages/sklearn/linear_model/_base.py:155: FutureWarning: 'normalize' was deprecated in version 1.0 and will be removed in 1.2. Please leave the normalize parameter to its default value to silence this warning. The default behavior of this estimator is to not do any normalization. If normalization is needed please use sklearn.preprocessing.StandardScaler instead.\n",
            "  FutureWarning,\n",
            "/usr/local/lib/python3.7/dist-packages/sklearn/linear_model/_base.py:155: FutureWarning: 'normalize' was deprecated in version 1.0 and will be removed in 1.2. Please leave the normalize parameter to its default value to silence this warning. The default behavior of this estimator is to not do any normalization. If normalization is needed please use sklearn.preprocessing.StandardScaler instead.\n",
            "  FutureWarning,\n",
            "/usr/local/lib/python3.7/dist-packages/sklearn/linear_model/_base.py:155: FutureWarning: 'normalize' was deprecated in version 1.0 and will be removed in 1.2. Please leave the normalize parameter to its default value to silence this warning. The default behavior of this estimator is to not do any normalization. If normalization is needed please use sklearn.preprocessing.StandardScaler instead.\n",
            "  FutureWarning,\n",
            "/usr/local/lib/python3.7/dist-packages/sklearn/linear_model/_base.py:155: FutureWarning: 'normalize' was deprecated in version 1.0 and will be removed in 1.2. Please leave the normalize parameter to its default value to silence this warning. The default behavior of this estimator is to not do any normalization. If normalization is needed please use sklearn.preprocessing.StandardScaler instead.\n",
            "  FutureWarning,\n",
            "/usr/local/lib/python3.7/dist-packages/sklearn/linear_model/_base.py:145: FutureWarning: 'normalize' was deprecated in version 1.0 and will be removed in 1.2.\n",
            "If you wish to scale the data, use Pipeline with a StandardScaler in a preprocessing stage. To reproduce the previous behavior:\n",
            "\n",
            "from sklearn.pipeline import make_pipeline\n",
            "\n",
            "model = make_pipeline(StandardScaler(with_mean=False), Ridge())\n",
            "\n",
            "If you wish to pass a sample_weight parameter, you need to pass it as a fit parameter to each step of the pipeline as follows:\n",
            "\n",
            "kwargs = {s[0] + '__sample_weight': sample_weight for s in model.steps}\n",
            "model.fit(X, y, **kwargs)\n",
            "\n",
            "Set parameter alpha to: original_alpha * n_samples. \n",
            "  FutureWarning,\n"
          ]
        },
        {
          "output_type": "execute_result",
          "data": {
            "text/plain": [
              "Ridge(alpha=0.1, normalize=True)"
            ]
          },
          "metadata": {},
          "execution_count": 196
        }
      ],
      "source": [
        "# Write your code below and press Shift+Enter to execute \n",
        "parameters2= [{'alpha': [0.001, 0.1, 1, 10, 100, 1000, 10000, 100000], 'normalize':[True, False]}]\n",
        "grid2 = GridSearchCV(RR, parameters2, cv=4)\n",
        "grid2.fit(x_data[['horsepower', 'curb-weight', 'engine-size', 'highway-mpg']], y_data)\n",
        "grid2.best_estimator_"
      ]
    },
    {
      "cell_type": "markdown",
      "metadata": {
        "id": "1ilX2BNQ0Wf0"
      },
      "source": [
        "<details><summary>Click here for the solution</summary>\n",
        "\n",
        "```python\n",
        "parameters2= [{'alpha': [0.001,0.1,1, 10, 100, 1000,10000,100000,100000],'normalize':[True,False]} ]\n",
        "Grid2 = GridSearchCV(Ridge(), parameters2,cv=4)\n",
        "Grid2.fit(x_data[['horsepower', 'curb-weight', 'engine-size', 'highway-mpg']],y_data)\n",
        "Grid2.best_estimator_\n",
        "\n",
        "\n",
        "```\n",
        "\n",
        "</details>\n"
      ]
    },
    {
      "cell_type": "markdown",
      "metadata": {
        "id": "Q9f5mCDe0Wf0"
      },
      "source": [
        "### Thank you for completing this lab!\n",
        "\n",
        "## Author\n",
        "\n",
        "<a href=\"https://www.linkedin.com/in/joseph-s-50398b136/?utm_medium=Exinfluencer&utm_source=Exinfluencer&utm_content=000026UJ&utm_term=10006555&utm_id=NA-SkillsNetwork-Channel-SkillsNetworkCoursesIBMDeveloperSkillsNetworkDA0101ENSkillsNetwork20235326-2022-01-01\" target=\"_blank\">Joseph Santarcangelo</a>\n",
        "\n",
        "### Other Contributors\n",
        "\n",
        "<a href=\"https://www.linkedin.com/in/mahdi-noorian-58219234/?utm_medium=Exinfluencer&utm_source=Exinfluencer&utm_content=000026UJ&utm_term=10006555&utm_id=NA-SkillsNetwork-Channel-SkillsNetworkCoursesIBMDeveloperSkillsNetworkDA0101ENSkillsNetwork20235326-2022-01-01\" target=\"_blank\">Mahdi Noorian PhD</a>\n",
        "\n",
        "Bahare Talayian\n",
        "\n",
        "Eric Xiao\n",
        "\n",
        "Steven Dong\n",
        "\n",
        "Parizad\n",
        "\n",
        "Hima Vasudevan\n",
        "\n",
        "<a href=\"https://www.linkedin.com/in/fiorellawever/?utm_medium=Exinfluencer&utm_source=Exinfluencer&utm_content=000026UJ&utm_term=10006555&utm_id=NA-SkillsNetwork-Channel-SkillsNetworkCoursesIBMDeveloperSkillsNetworkDA0101ENSkillsNetwork20235326-2022-01-01\" target=\"_blank\">Fiorella Wenver</a>\n",
        "\n",
        "<a href=\"https:// https://www.linkedin.com/in/yi-leng-yao-84451275/ \" target=\"_blank\" >Yi Yao</a>.\n",
        "\n",
        "## Change Log\n",
        "\n",
        "| Date (YYYY-MM-DD) | Version | Changed By | Change Description                  |\n",
        "| ----------------- | ------- | ---------- | ----------------------------------- |\n",
        "| 2020-10-30        | 2.3     | Lakshmi    | Changed URL of csv                  |\n",
        "| 2020-10-05        | 2.2     | Lakshmi    | Removed unused library imports      |\n",
        "| 2020-09-14        | 2.1     | Lakshmi    | Made changes in OverFitting section |\n",
        "| 2020-08-27        | 2.0     | Lavanya    | Moved lab to course repo in GitLab  |\n",
        "\n",
        "<hr>\n",
        "\n",
        "## <h3 align=\"center\"> © IBM Corporation 2020. All rights reserved. <h3/>\n"
      ]
    }
  ],
  "metadata": {
    "anaconda-cloud": {},
    "kernelspec": {
      "display_name": "Python 3.10.2 64-bit",
      "language": "python",
      "name": "python3"
    },
    "language_info": {
      "codemirror_mode": {
        "name": "ipython",
        "version": 3
      },
      "file_extension": ".py",
      "mimetype": "text/x-python",
      "name": "python",
      "nbconvert_exporter": "python",
      "pygments_lexer": "ipython3",
      "version": "3.10.2"
    },
    "metadata": {
      "interpreter": {
        "hash": "ac2eaa0ea0ebeafcc7822e65e46aa9d4f966f30b695406963e145ea4a91cd4fc"
      }
    },
    "vscode": {
      "interpreter": {
        "hash": "369f2c481f4da34e4445cda3fffd2e751bd1c4d706f27375911949ba6bb62e1c"
      }
    },
    "colab": {
      "name": "DA0101EN-5-Review-Model-Evaluation-and-Refinement.ipynb",
      "provenance": [],
      "collapsed_sections": [
        "Q9f5mCDe0Wf0"
      ]
    },
    "gpuClass": "standard",
    "widgets": {
      "application/vnd.jupyter.widget-state+json": {
        "075706bfc9464f6d9f5b951c9d804629": {
          "model_module": "@jupyter-widgets/controls",
          "model_name": "VBoxModel",
          "model_module_version": "1.5.0",
          "state": {
            "_dom_classes": [
              "widget-interact"
            ],
            "_model_module": "@jupyter-widgets/controls",
            "_model_module_version": "1.5.0",
            "_model_name": "VBoxModel",
            "_view_count": null,
            "_view_module": "@jupyter-widgets/controls",
            "_view_module_version": "1.5.0",
            "_view_name": "VBoxView",
            "box_style": "",
            "children": [
              "IPY_MODEL_716f229fc552452ba7fb74242ab41d1e",
              "IPY_MODEL_ff47268cc5924f2f956081a8c4db9b07",
              "IPY_MODEL_46cd2a7b22ec492eab1edce9810e09b5"
            ],
            "layout": "IPY_MODEL_493fd6072f21473e92a4f7ebc81fb8bf"
          }
        },
        "716f229fc552452ba7fb74242ab41d1e": {
          "model_module": "@jupyter-widgets/controls",
          "model_name": "IntSliderModel",
          "model_module_version": "1.5.0",
          "state": {
            "_dom_classes": [],
            "_model_module": "@jupyter-widgets/controls",
            "_model_module_version": "1.5.0",
            "_model_name": "IntSliderModel",
            "_view_count": null,
            "_view_module": "@jupyter-widgets/controls",
            "_view_module_version": "1.5.0",
            "_view_name": "IntSliderView",
            "continuous_update": true,
            "description": "order",
            "description_tooltip": null,
            "disabled": false,
            "layout": "IPY_MODEL_2a431f0ba01c4b1b81007184bb4fc625",
            "max": 6,
            "min": 0,
            "orientation": "horizontal",
            "readout": true,
            "readout_format": "d",
            "step": 1,
            "style": "IPY_MODEL_dfd4d5be393f4ee59cadb25871af102e",
            "value": 3
          }
        },
        "ff47268cc5924f2f956081a8c4db9b07": {
          "model_module": "@jupyter-widgets/controls",
          "model_name": "FloatSliderModel",
          "model_module_version": "1.5.0",
          "state": {
            "_dom_classes": [],
            "_model_module": "@jupyter-widgets/controls",
            "_model_module_version": "1.5.0",
            "_model_name": "FloatSliderModel",
            "_view_count": null,
            "_view_module": "@jupyter-widgets/controls",
            "_view_module_version": "1.5.0",
            "_view_name": "FloatSliderView",
            "continuous_update": true,
            "description": "test_data_size",
            "description_tooltip": null,
            "disabled": false,
            "layout": "IPY_MODEL_2082ca0449d8442da9ca1cc81df95850",
            "max": 0.95,
            "min": 0.05,
            "orientation": "horizontal",
            "readout": true,
            "readout_format": ".2f",
            "step": 0.05,
            "style": "IPY_MODEL_12475f340ebf4903b6518525e63ed09e",
            "value": 0.45
          }
        },
        "46cd2a7b22ec492eab1edce9810e09b5": {
          "model_module": "@jupyter-widgets/output",
          "model_name": "OutputModel",
          "model_module_version": "1.0.0",
          "state": {
            "_dom_classes": [],
            "_model_module": "@jupyter-widgets/output",
            "_model_module_version": "1.0.0",
            "_model_name": "OutputModel",
            "_view_count": null,
            "_view_module": "@jupyter-widgets/output",
            "_view_module_version": "1.0.0",
            "_view_name": "OutputView",
            "layout": "IPY_MODEL_6b2922b23f9a4f70873858499d395620",
            "msg_id": "",
            "outputs": [
              {
                "output_type": "display_data",
                "data": {
                  "text/plain": "<Figure size 864x720 with 1 Axes>",
                  "image/png": "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\n"
                },
                "metadata": {
                  "needs_background": "light"
                }
              }
            ]
          }
        },
        "493fd6072f21473e92a4f7ebc81fb8bf": {
          "model_module": "@jupyter-widgets/base",
          "model_name": "LayoutModel",
          "model_module_version": "1.2.0",
          "state": {
            "_model_module": "@jupyter-widgets/base",
            "_model_module_version": "1.2.0",
            "_model_name": "LayoutModel",
            "_view_count": null,
            "_view_module": "@jupyter-widgets/base",
            "_view_module_version": "1.2.0",
            "_view_name": "LayoutView",
            "align_content": null,
            "align_items": null,
            "align_self": null,
            "border": null,
            "bottom": null,
            "display": null,
            "flex": null,
            "flex_flow": null,
            "grid_area": null,
            "grid_auto_columns": null,
            "grid_auto_flow": null,
            "grid_auto_rows": null,
            "grid_column": null,
            "grid_gap": null,
            "grid_row": null,
            "grid_template_areas": null,
            "grid_template_columns": null,
            "grid_template_rows": null,
            "height": null,
            "justify_content": null,
            "justify_items": null,
            "left": null,
            "margin": null,
            "max_height": null,
            "max_width": null,
            "min_height": null,
            "min_width": null,
            "object_fit": null,
            "object_position": null,
            "order": null,
            "overflow": null,
            "overflow_x": null,
            "overflow_y": null,
            "padding": null,
            "right": null,
            "top": null,
            "visibility": null,
            "width": null
          }
        },
        "2a431f0ba01c4b1b81007184bb4fc625": {
          "model_module": "@jupyter-widgets/base",
          "model_name": "LayoutModel",
          "model_module_version": "1.2.0",
          "state": {
            "_model_module": "@jupyter-widgets/base",
            "_model_module_version": "1.2.0",
            "_model_name": "LayoutModel",
            "_view_count": null,
            "_view_module": "@jupyter-widgets/base",
            "_view_module_version": "1.2.0",
            "_view_name": "LayoutView",
            "align_content": null,
            "align_items": null,
            "align_self": null,
            "border": null,
            "bottom": null,
            "display": null,
            "flex": null,
            "flex_flow": null,
            "grid_area": null,
            "grid_auto_columns": null,
            "grid_auto_flow": null,
            "grid_auto_rows": null,
            "grid_column": null,
            "grid_gap": null,
            "grid_row": null,
            "grid_template_areas": null,
            "grid_template_columns": null,
            "grid_template_rows": null,
            "height": null,
            "justify_content": null,
            "justify_items": null,
            "left": null,
            "margin": null,
            "max_height": null,
            "max_width": null,
            "min_height": null,
            "min_width": null,
            "object_fit": null,
            "object_position": null,
            "order": null,
            "overflow": null,
            "overflow_x": null,
            "overflow_y": null,
            "padding": null,
            "right": null,
            "top": null,
            "visibility": null,
            "width": null
          }
        },
        "dfd4d5be393f4ee59cadb25871af102e": {
          "model_module": "@jupyter-widgets/controls",
          "model_name": "SliderStyleModel",
          "model_module_version": "1.5.0",
          "state": {
            "_model_module": "@jupyter-widgets/controls",
            "_model_module_version": "1.5.0",
            "_model_name": "SliderStyleModel",
            "_view_count": null,
            "_view_module": "@jupyter-widgets/base",
            "_view_module_version": "1.2.0",
            "_view_name": "StyleView",
            "description_width": "",
            "handle_color": null
          }
        },
        "2082ca0449d8442da9ca1cc81df95850": {
          "model_module": "@jupyter-widgets/base",
          "model_name": "LayoutModel",
          "model_module_version": "1.2.0",
          "state": {
            "_model_module": "@jupyter-widgets/base",
            "_model_module_version": "1.2.0",
            "_model_name": "LayoutModel",
            "_view_count": null,
            "_view_module": "@jupyter-widgets/base",
            "_view_module_version": "1.2.0",
            "_view_name": "LayoutView",
            "align_content": null,
            "align_items": null,
            "align_self": null,
            "border": null,
            "bottom": null,
            "display": null,
            "flex": null,
            "flex_flow": null,
            "grid_area": null,
            "grid_auto_columns": null,
            "grid_auto_flow": null,
            "grid_auto_rows": null,
            "grid_column": null,
            "grid_gap": null,
            "grid_row": null,
            "grid_template_areas": null,
            "grid_template_columns": null,
            "grid_template_rows": null,
            "height": null,
            "justify_content": null,
            "justify_items": null,
            "left": null,
            "margin": null,
            "max_height": null,
            "max_width": null,
            "min_height": null,
            "min_width": null,
            "object_fit": null,
            "object_position": null,
            "order": null,
            "overflow": null,
            "overflow_x": null,
            "overflow_y": null,
            "padding": null,
            "right": null,
            "top": null,
            "visibility": null,
            "width": null
          }
        },
        "12475f340ebf4903b6518525e63ed09e": {
          "model_module": "@jupyter-widgets/controls",
          "model_name": "SliderStyleModel",
          "model_module_version": "1.5.0",
          "state": {
            "_model_module": "@jupyter-widgets/controls",
            "_model_module_version": "1.5.0",
            "_model_name": "SliderStyleModel",
            "_view_count": null,
            "_view_module": "@jupyter-widgets/base",
            "_view_module_version": "1.2.0",
            "_view_name": "StyleView",
            "description_width": "",
            "handle_color": null
          }
        },
        "6b2922b23f9a4f70873858499d395620": {
          "model_module": "@jupyter-widgets/base",
          "model_name": "LayoutModel",
          "model_module_version": "1.2.0",
          "state": {
            "_model_module": "@jupyter-widgets/base",
            "_model_module_version": "1.2.0",
            "_model_name": "LayoutModel",
            "_view_count": null,
            "_view_module": "@jupyter-widgets/base",
            "_view_module_version": "1.2.0",
            "_view_name": "LayoutView",
            "align_content": null,
            "align_items": null,
            "align_self": null,
            "border": null,
            "bottom": null,
            "display": null,
            "flex": null,
            "flex_flow": null,
            "grid_area": null,
            "grid_auto_columns": null,
            "grid_auto_flow": null,
            "grid_auto_rows": null,
            "grid_column": null,
            "grid_gap": null,
            "grid_row": null,
            "grid_template_areas": null,
            "grid_template_columns": null,
            "grid_template_rows": null,
            "height": null,
            "justify_content": null,
            "justify_items": null,
            "left": null,
            "margin": null,
            "max_height": null,
            "max_width": null,
            "min_height": null,
            "min_width": null,
            "object_fit": null,
            "object_position": null,
            "order": null,
            "overflow": null,
            "overflow_x": null,
            "overflow_y": null,
            "padding": null,
            "right": null,
            "top": null,
            "visibility": null,
            "width": null
          }
        }
      }
    }
  },
  "nbformat": 4,
  "nbformat_minor": 0
}